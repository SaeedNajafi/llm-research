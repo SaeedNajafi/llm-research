{
 "cells": [
  {
   "cell_type": "code",
   "execution_count": 2,
   "id": "d28a0106-7af7-4a90-a644-11f93f83acd5",
   "metadata": {},
   "outputs": [],
   "source": [
    "import pandas as pd\n",
    "\n",
    "\n",
    "def split_tsv_file(file_path, split_ratio=(0.33, 0.33, 0.34), output_prefix=\"split_\"):\n",
    "    \"\"\"\n",
    "    Reads a TSV file, splits it into three parts, and saves each part to a new file.\n",
    "\n",
    "    Args:\n",
    "      file_path: Path to the TSV file.\n",
    "      split_ratio: Tuple of three floats representing the ratio for each part.\n",
    "                    Defaults to (0.7, 0.15, 0.15) for train, validation, and test.\n",
    "      output_prefix: Prefix for the output file names. Defaults to 'split_'.\n",
    "\n",
    "    Returns:\n",
    "      None\n",
    "    \"\"\"\n",
    "\n",
    "    df = pd.read_csv(file_path, sep=\"\\t\")\n",
    "\n",
    "    n_rows = len(df)\n",
    "    split_points = [int(n_rows * sum(split_ratio[:i])) for i in range(1, len(split_ratio) + 1)]\n",
    "\n",
    "    df_part1 = df.iloc[: split_points[0]]\n",
    "    df_part2 = df.iloc[split_points[0] : split_points[1]]\n",
    "    df_part3 = df.iloc[split_points[1] :]\n",
    "\n",
    "    df_part1.to_csv(f\"{output_prefix}part1.tsv\", sep=\"\\t\", index=False)\n",
    "    df_part2.to_csv(f\"{output_prefix}part2.tsv\", sep=\"\\t\", index=False)\n",
    "    df_part3.to_csv(f\"{output_prefix}part3.tsv\", sep=\"\\t\", index=False)\n",
    "\n",
    "\n",
    "# Example usage:\n",
    "file_path = \"original_validation.tsv\"  # Replace with your actual file path\n",
    "split_tsv_file(file_path, output_prefix=\"original_validation_\")  # Will save files as 'split_part1.tsv', etc."
   ]
  }
 ],
 "metadata": {
  "kernelspec": {
   "display_name": "Python 3 (ipykernel)",
   "language": "python",
   "name": "python3"
  },
  "language_info": {
   "codemirror_mode": {
    "name": "ipython",
    "version": 3
   },
   "file_extension": ".py",
   "mimetype": "text/x-python",
   "name": "python",
   "nbconvert_exporter": "python",
   "pygments_lexer": "ipython3",
   "version": "3.11.0"
  }
 },
 "nbformat": 4,
 "nbformat_minor": 5
}
