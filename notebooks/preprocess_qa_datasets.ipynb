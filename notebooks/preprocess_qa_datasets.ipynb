{
 "cells": [
  {
   "cell_type": "code",
   "execution_count": 1,
   "id": "f1284483-a3a8-4570-b4da-32fb1c5b5254",
   "metadata": {},
   "outputs": [
    {
     "name": "stderr",
     "output_type": "stream",
     "text": [
      "/fs01/home/snajafi/codes/llm-research/llm-env/lib/python3.10/site-packages/tqdm/auto.py:21: TqdmWarning: IProgress not found. Please update jupyter and ipywidgets. See https://ipywidgets.readthedocs.io/en/stable/user_install.html\n",
      "  from .autonotebook import tqdm as notebook_tqdm\n"
     ]
    }
   ],
   "source": [
    "import random\n",
    "from pathlib import Path\n",
    "from typing import Any\n",
    "\n",
    "import pandas as pd\n",
    "from datasets import load_dataset"
   ]
  },
  {
   "cell_type": "code",
   "execution_count": 2,
   "id": "66d99fa9-7226-4e1e-a0b4-28916084ea75",
   "metadata": {},
   "outputs": [],
   "source": [
    "def white_space_fix(text: Any) -> Any:\n",
    "    return \" \".join(text.strip().split()).strip()"
   ]
  },
  {
   "cell_type": "code",
   "execution_count": 3,
   "id": "8e334b6a-cfef-411f-a40b-6a43067ee652",
   "metadata": {},
   "outputs": [],
   "source": [
    "def read_narrative_dataset() -> Any:\n",
    "    \"\"\"Read the narrative qa dataset.\"\"\"\n",
    "\n",
    "    def process_narrative_row(row: Any) -> Any:\n",
    "        \"\"\"Helper functions for NarrativeQA Dataset.\"\"\"\n",
    "        all_answers = list(set([white_space_fix(answer[\"text\"]) for answer in row[\"answers\"]]))\n",
    "        return {\n",
    "            \"context\": white_space_fix(row[\"question\"][\"text\"]),\n",
    "            \"question\": white_space_fix(row[\"document\"][\"summary\"][\"text\"]),\n",
    "            \"answers\": all_answers,\n",
    "        }\n",
    "\n",
    "    train_dataset = load_dataset(\"narrativeqa\", split=\"train\", download_mode=\"force_redownload\", verification_mode=\"no_checks\")\n",
    "    dev_dataset = load_dataset(\n",
    "        \"narrativeqa\", split=\"validation\", download_mode=\"force_redownload\", verification_mode=\"no_checks\"\n",
    "    )\n",
    "    test_dataset = load_dataset(\"narrativeqa\", split=\"test\", download_mode=\"force_redownload\", verification_mode=\"no_checks\")\n",
    "\n",
    "    train_dataset = train_dataset.map(\n",
    "        process_narrative_row,\n",
    "        remove_columns=[\"document\"],\n",
    "    )\n",
    "\n",
    "    dev_dataset = dev_dataset.map(\n",
    "        process_narrative_row,\n",
    "        remove_columns=[\"document\"],\n",
    "    )\n",
    "\n",
    "    test_dataset = test_dataset.map(\n",
    "        process_narrative_row,\n",
    "        remove_columns=[\"document\"],\n",
    "    )\n",
    "    return train_dataset, dev_dataset, test_dataset"
   ]
  },
  {
   "cell_type": "code",
   "execution_count": 4,
   "id": "4d88d552-f665-438b-a983-aa384a064251",
   "metadata": {},
   "outputs": [],
   "source": [
    "def read_race_dataset() -> Any:\n",
    "    \"\"\"Function to create the race dataset.\"\"\"\n",
    "\n",
    "    def process_race_row(row: Any) -> Any:\n",
    "        \"\"\"Helper function.\"\"\"\n",
    "        option_code = row[\"answer\"]\n",
    "        if option_code == \"A\":\n",
    "            option_idx = 0\n",
    "        elif option_code == \"B\":\n",
    "            option_idx = 1\n",
    "        elif option_code == \"C\":\n",
    "            option_idx = 2\n",
    "        elif option_code == \"D\":\n",
    "            option_idx = 3\n",
    "\n",
    "        answers = [row[\"options\"][option_idx]]\n",
    "        return {\n",
    "            \"context\": white_space_fix(row[\"article\"]),\n",
    "            \"question\": white_space_fix(row[\"question\"]),\n",
    "            \"answers\": answers,\n",
    "        }\n",
    "\n",
    "    train_dataset = load_dataset(\"race\", \"all\", split=\"train\", download_mode=\"force_redownload\", verification_mode=\"no_checks\")\n",
    "    train_dataset = train_dataset.map(\n",
    "        process_race_row,\n",
    "        remove_columns=[\"options\", \"example_id\", \"article\"],\n",
    "    )\n",
    "    dev_dataset = load_dataset(\n",
    "        \"race\", \"all\", split=\"validation\", download_mode=\"force_redownload\", verification_mode=\"no_checks\"\n",
    "    )\n",
    "    dev_dataset = dev_dataset.map(\n",
    "        process_race_row,\n",
    "        remove_columns=[\"options\", \"example_id\", \"article\"],\n",
    "    )\n",
    "    test_dataset = load_dataset(\"race\", \"all\", split=\"test\", download_mode=\"force_redownload\", verification_mode=\"no_checks\")\n",
    "    test_dataset = test_dataset.map(\n",
    "        process_race_row,\n",
    "        remove_columns=[\"options\", \"example_id\", \"article\"],\n",
    "    )\n",
    "    return train_dataset, dev_dataset, test_dataset"
   ]
  },
  {
   "cell_type": "code",
   "execution_count": 5,
   "id": "338303eb-1147-42fc-b788-bd8f930fede2",
   "metadata": {},
   "outputs": [],
   "source": [
    "def read_squad_dataset() -> Any:\n",
    "    def process_squad_row(row: Any) -> Any:\n",
    "        if row[\"answers\"][\"text\"]:\n",
    "            all_answers = list(set([white_space_fix(answer) for answer in row[\"answers\"][\"text\"]]))\n",
    "        else:\n",
    "            all_answers = [\"<no_answer>\"]\n",
    "        return {\n",
    "            \"context\": white_space_fix(row[\"context\"]),\n",
    "            \"question\": white_space_fix(row[\"question\"]),\n",
    "            \"answers\": all_answers,\n",
    "        }\n",
    "\n",
    "    train_dataset = load_dataset(\"squad_v2\", split=\"train\", download_mode=\"force_redownload\", verification_mode=\"no_checks\")\n",
    "    train_dataset = train_dataset.map(\n",
    "        process_squad_row,\n",
    "        remove_columns=[\"id\", \"title\"],\n",
    "    )\n",
    "    dev_dataset = load_dataset(\"squad_v2\", split=\"validation\", download_mode=\"force_redownload\", verification_mode=\"no_checks\")\n",
    "    dev_dataset = dev_dataset.map(\n",
    "        process_squad_row,\n",
    "        remove_columns=[\"id\", \"title\"],\n",
    "    )\n",
    "    return train_dataset, dev_dataset, dev_dataset"
   ]
  },
  {
   "cell_type": "code",
   "execution_count": 7,
   "id": "d7af4f85-5eae-48ba-a592-487f4939d9a8",
   "metadata": {},
   "outputs": [
    {
     "name": "stderr",
     "output_type": "stream",
     "text": [
      "Downloading readme: 100%|██████████| 11.0k/11.0k [00:00<00:00, 26.0MB/s]\n",
      "Downloading data: 100%|██████████| 2.08M/2.08M [00:00<00:00, 12.5MB/s]\n",
      "Downloading data: 100%|██████████| 37.4M/37.4M [00:00<00:00, 71.9MB/s]\n",
      "Downloading data: 100%|██████████| 2.05M/2.05M [00:00<00:00, 9.84MB/s]\n",
      "Generating test split: 100%|██████████| 4934/4934 [00:00<00:00, 127085.29 examples/s]\n",
      "Generating train split: 100%|██████████| 87866/87866 [00:00<00:00, 203199.32 examples/s]\n",
      "Generating validation split: 100%|██████████| 4887/4887 [00:00<00:00, 202421.08 examples/s]\n",
      "Map: 100%|██████████| 87866/87866 [00:13<00:00, 6624.91 examples/s]\n",
      "Downloading readme: 100%|██████████| 11.0k/11.0k [00:00<00:00, 25.6MB/s]\n",
      "Downloading data: 100%|██████████| 2.08M/2.08M [00:00<00:00, 19.5MB/s]\n",
      "Downloading data: 100%|██████████| 37.4M/37.4M [00:00<00:00, 121MB/s] \n",
      "Downloading data: 100%|██████████| 2.05M/2.05M [00:00<00:00, 17.3MB/s]\n",
      "Generating test split: 100%|██████████| 4934/4934 [00:00<00:00, 133399.70 examples/s]\n",
      "Generating train split: 100%|██████████| 87866/87866 [00:00<00:00, 208326.29 examples/s]\n",
      "Generating validation split: 100%|██████████| 4887/4887 [00:00<00:00, 194919.73 examples/s]\n",
      "Map: 100%|██████████| 4887/4887 [00:00<00:00, 6608.96 examples/s]\n",
      "Downloading readme: 100%|██████████| 11.0k/11.0k [00:00<00:00, 26.4MB/s]\n",
      "Downloading data: 100%|██████████| 2.08M/2.08M [00:00<00:00, 20.7MB/s]\n",
      "Downloading data: 100%|██████████| 37.4M/37.4M [00:00<00:00, 179MB/s] \n",
      "Downloading data: 100%|██████████| 2.05M/2.05M [00:00<00:00, 20.5MB/s]\n",
      "Generating test split: 100%|██████████| 4934/4934 [00:00<00:00, 153052.56 examples/s]\n",
      "Generating train split: 100%|██████████| 87866/87866 [00:00<00:00, 208188.96 examples/s]\n",
      "Generating validation split: 100%|██████████| 4887/4887 [00:00<00:00, 202187.47 examples/s]\n",
      "Map: 100%|██████████| 4934/4934 [00:00<00:00, 6675.59 examples/s]\n",
      "Downloading readme: 100%|██████████| 10.6k/10.6k [00:00<00:00, 24.6MB/s]\n",
      "Downloading data: 100%|██████████| 24/24 [00:05<00:00,  4.48files/s]\n",
      "Downloading data: 100%|██████████| 8.56M/8.56M [00:00<00:00, 56.8MB/s]\n",
      "Downloading data: 100%|██████████| 44.5M/44.5M [00:00<00:00, 182MB/s] \n",
      "Downloading data: 100%|██████████| 101M/101M [00:00<00:00, 194MB/s]  \n",
      "Downloading data: 100%|██████████| 222M/222M [00:00<00:00, 261MB/s]  \n",
      "Downloading data: 100%|██████████| 60.8M/60.8M [00:00<00:00, 214MB/s] \n",
      "Downloading data: 100%|██████████| 121M/121M [00:00<00:00, 239MB/s]  \n",
      "Downloading data: 100%|██████████| 243M/243M [00:00<00:00, 265MB/s]  \n",
      "Downloading data: 100%|██████████| 58.5M/58.5M [00:00<00:00, 213MB/s] \n",
      "Downloading data: 100%|██████████| 10.0M/10.0M [00:00<00:00, 75.6MB/s]\n",
      "Downloading data: 100%|██████████| 24.9M/24.9M [00:00<00:00, 145MB/s] \n",
      "Downloading data: 100%|██████████| 68.0M/68.0M [00:00<00:00, 169MB/s] \n",
      "Generating train split: 100%|██████████| 32747/32747 [00:42<00:00, 770.12 examples/s]\n",
      "Generating test split: 100%|██████████| 10557/10557 [00:13<00:00, 786.22 examples/s]\n",
      "Generating validation split: 100%|██████████| 3461/3461 [00:03<00:00, 921.89 examples/s] \n",
      "Downloading readme: 100%|██████████| 10.6k/10.6k [00:00<00:00, 27.6MB/s]\n",
      "Downloading data: 100%|██████████| 24/24 [00:05<00:00,  4.69files/s]\n",
      "Downloading data: 100%|██████████| 8.56M/8.56M [00:00<00:00, 66.6MB/s]\n",
      "Downloading data: 100%|██████████| 44.5M/44.5M [00:00<00:00, 182MB/s] \n",
      "Downloading data: 100%|██████████| 101M/101M [00:00<00:00, 265MB/s]  \n",
      "Downloading data: 100%|██████████| 222M/222M [00:00<00:00, 309MB/s]  \n",
      "Downloading data: 100%|██████████| 60.8M/60.8M [00:00<00:00, 219MB/s] \n",
      "Downloading data: 100%|██████████| 121M/121M [00:00<00:00, 270MB/s]  \n",
      "Downloading data: 100%|██████████| 243M/243M [00:00<00:00, 314MB/s]  \n",
      "Downloading data: 100%|██████████| 58.5M/58.5M [00:00<00:00, 157MB/s] \n",
      "Downloading data: 100%|██████████| 10.0M/10.0M [00:00<00:00, 76.1MB/s]\n",
      "Downloading data: 100%|██████████| 24.9M/24.9M [00:00<00:00, 141MB/s] \n",
      "Downloading data: 100%|██████████| 68.0M/68.0M [00:00<00:00, 223MB/s] \n",
      "Generating train split:  36%|███▋      | 11920/32747 [00:15<00:26, 779.26 examples/s]\n"
     ]
    },
    {
     "ename": "DatasetGenerationError",
     "evalue": "An error occurred while generating the dataset",
     "output_type": "error",
     "traceback": [
      "\u001b[0;31m---------------------------------------------------------------------------\u001b[0m",
      "\u001b[0;31mOSError\u001b[0m                                   Traceback (most recent call last)",
      "File \u001b[0;32m/fs01/home/snajafi/codes/llm-research/llm-env/lib/python3.10/site-packages/datasets/builder.py:2011\u001b[0m, in \u001b[0;36mArrowBasedBuilder._prepare_split_single\u001b[0;34m(self, gen_kwargs, fpath, file_format, max_shard_size, job_id)\u001b[0m\n\u001b[1;32m   2010\u001b[0m \u001b[38;5;28;01mtry\u001b[39;00m:\n\u001b[0;32m-> 2011\u001b[0m     \u001b[43mwriter\u001b[49m\u001b[38;5;241;43m.\u001b[39;49m\u001b[43mwrite_table\u001b[49m\u001b[43m(\u001b[49m\u001b[43mtable\u001b[49m\u001b[43m)\u001b[49m\n\u001b[1;32m   2012\u001b[0m \u001b[38;5;28;01mexcept\u001b[39;00m CastError \u001b[38;5;28;01mas\u001b[39;00m cast_error:\n",
      "File \u001b[0;32m/fs01/home/snajafi/codes/llm-research/llm-env/lib/python3.10/site-packages/datasets/arrow_writer.py:590\u001b[0m, in \u001b[0;36mArrowWriter.write_table\u001b[0;34m(self, pa_table, writer_batch_size)\u001b[0m\n\u001b[1;32m    589\u001b[0m \u001b[38;5;28mself\u001b[39m\u001b[38;5;241m.\u001b[39m_num_examples \u001b[38;5;241m+\u001b[39m\u001b[38;5;241m=\u001b[39m pa_table\u001b[38;5;241m.\u001b[39mnum_rows\n\u001b[0;32m--> 590\u001b[0m \u001b[38;5;28;43mself\u001b[39;49m\u001b[38;5;241;43m.\u001b[39;49m\u001b[43mpa_writer\u001b[49m\u001b[38;5;241;43m.\u001b[39;49m\u001b[43mwrite_table\u001b[49m\u001b[43m(\u001b[49m\u001b[43mpa_table\u001b[49m\u001b[43m,\u001b[49m\u001b[43m \u001b[49m\u001b[43mwriter_batch_size\u001b[49m\u001b[43m)\u001b[49m\n",
      "File \u001b[0;32m/fs01/home/snajafi/codes/llm-research/llm-env/lib/python3.10/site-packages/pyarrow/ipc.pxi:529\u001b[0m, in \u001b[0;36mpyarrow.lib._CRecordBatchWriter.write_table\u001b[0;34m()\u001b[0m\n",
      "File \u001b[0;32m/fs01/home/snajafi/codes/llm-research/llm-env/lib/python3.10/site-packages/pyarrow/error.pxi:88\u001b[0m, in \u001b[0;36mpyarrow.lib.check_status\u001b[0;34m()\u001b[0m\n",
      "File \u001b[0;32m/fs01/home/snajafi/codes/llm-research/llm-env/lib/python3.10/site-packages/fsspec/implementations/local.py:373\u001b[0m, in \u001b[0;36mLocalFileOpener.write\u001b[0;34m(self, *args, **kwargs)\u001b[0m\n\u001b[1;32m    372\u001b[0m \u001b[38;5;28;01mdef\u001b[39;00m \u001b[38;5;21mwrite\u001b[39m(\u001b[38;5;28mself\u001b[39m, \u001b[38;5;241m*\u001b[39margs, \u001b[38;5;241m*\u001b[39m\u001b[38;5;241m*\u001b[39mkwargs):\n\u001b[0;32m--> 373\u001b[0m     \u001b[38;5;28;01mreturn\u001b[39;00m \u001b[38;5;28;43mself\u001b[39;49m\u001b[38;5;241;43m.\u001b[39;49m\u001b[43mf\u001b[49m\u001b[38;5;241;43m.\u001b[39;49m\u001b[43mwrite\u001b[49m\u001b[43m(\u001b[49m\u001b[38;5;241;43m*\u001b[39;49m\u001b[43margs\u001b[49m\u001b[43m,\u001b[49m\u001b[43m \u001b[49m\u001b[38;5;241;43m*\u001b[39;49m\u001b[38;5;241;43m*\u001b[39;49m\u001b[43mkwargs\u001b[49m\u001b[43m)\u001b[49m\n",
      "\u001b[0;31mOSError\u001b[0m: [Errno 122] Disk quota exceeded",
      "\nThe above exception was the direct cause of the following exception:\n",
      "\u001b[0;31mDatasetGenerationError\u001b[0m                    Traceback (most recent call last)",
      "Cell \u001b[0;32mIn[7], line 2\u001b[0m\n\u001b[1;32m      1\u001b[0m rc_train_dataset, rc_dev_dataset, rc_test_dataset \u001b[38;5;241m=\u001b[39m read_race_dataset()\n\u001b[0;32m----> 2\u001b[0m nq_train_dataset, nq_dev_dataset, nq_test_dataset \u001b[38;5;241m=\u001b[39m \u001b[43mread_narrative_dataset\u001b[49m\u001b[43m(\u001b[49m\u001b[43m)\u001b[49m\n\u001b[1;32m      3\u001b[0m sq_train_dataset, sq_dev_dataset, sq_test_dataset \u001b[38;5;241m=\u001b[39m read_squad_dataset()\n",
      "Cell \u001b[0;32mIn[3], line 14\u001b[0m, in \u001b[0;36mread_narrative_dataset\u001b[0;34m()\u001b[0m\n\u001b[1;32m      7\u001b[0m     \u001b[38;5;28;01mreturn\u001b[39;00m {\n\u001b[1;32m      8\u001b[0m         \u001b[38;5;124m\"\u001b[39m\u001b[38;5;124mcontext\u001b[39m\u001b[38;5;124m\"\u001b[39m: white_space_fix(row[\u001b[38;5;124m\"\u001b[39m\u001b[38;5;124mquestion\u001b[39m\u001b[38;5;124m\"\u001b[39m][\u001b[38;5;124m\"\u001b[39m\u001b[38;5;124mtext\u001b[39m\u001b[38;5;124m\"\u001b[39m]),\n\u001b[1;32m      9\u001b[0m         \u001b[38;5;124m\"\u001b[39m\u001b[38;5;124mquestion\u001b[39m\u001b[38;5;124m\"\u001b[39m: white_space_fix(row[\u001b[38;5;124m\"\u001b[39m\u001b[38;5;124mdocument\u001b[39m\u001b[38;5;124m\"\u001b[39m][\u001b[38;5;124m\"\u001b[39m\u001b[38;5;124msummary\u001b[39m\u001b[38;5;124m\"\u001b[39m][\u001b[38;5;124m\"\u001b[39m\u001b[38;5;124mtext\u001b[39m\u001b[38;5;124m\"\u001b[39m]),\n\u001b[1;32m     10\u001b[0m         \u001b[38;5;124m\"\u001b[39m\u001b[38;5;124manswers\u001b[39m\u001b[38;5;124m\"\u001b[39m: all_answers,\n\u001b[1;32m     11\u001b[0m     }\n\u001b[1;32m     13\u001b[0m train_dataset \u001b[38;5;241m=\u001b[39m load_dataset(\u001b[38;5;124m\"\u001b[39m\u001b[38;5;124mnarrativeqa\u001b[39m\u001b[38;5;124m\"\u001b[39m, split\u001b[38;5;241m=\u001b[39m\u001b[38;5;124m\"\u001b[39m\u001b[38;5;124mtrain\u001b[39m\u001b[38;5;124m\"\u001b[39m, download_mode\u001b[38;5;241m=\u001b[39m\u001b[38;5;124m\"\u001b[39m\u001b[38;5;124mforce_redownload\u001b[39m\u001b[38;5;124m\"\u001b[39m, verification_mode\u001b[38;5;241m=\u001b[39m\u001b[38;5;124m\"\u001b[39m\u001b[38;5;124mno_checks\u001b[39m\u001b[38;5;124m\"\u001b[39m)\n\u001b[0;32m---> 14\u001b[0m dev_dataset \u001b[38;5;241m=\u001b[39m \u001b[43mload_dataset\u001b[49m\u001b[43m(\u001b[49m\n\u001b[1;32m     15\u001b[0m \u001b[43m    \u001b[49m\u001b[38;5;124;43m\"\u001b[39;49m\u001b[38;5;124;43mnarrativeqa\u001b[39;49m\u001b[38;5;124;43m\"\u001b[39;49m\u001b[43m,\u001b[49m\u001b[43m \u001b[49m\u001b[43msplit\u001b[49m\u001b[38;5;241;43m=\u001b[39;49m\u001b[38;5;124;43m\"\u001b[39;49m\u001b[38;5;124;43mvalidation\u001b[39;49m\u001b[38;5;124;43m\"\u001b[39;49m\u001b[43m,\u001b[49m\u001b[43m \u001b[49m\u001b[43mdownload_mode\u001b[49m\u001b[38;5;241;43m=\u001b[39;49m\u001b[38;5;124;43m\"\u001b[39;49m\u001b[38;5;124;43mforce_redownload\u001b[39;49m\u001b[38;5;124;43m\"\u001b[39;49m\u001b[43m,\u001b[49m\u001b[43m \u001b[49m\u001b[43mverification_mode\u001b[49m\u001b[38;5;241;43m=\u001b[39;49m\u001b[38;5;124;43m\"\u001b[39;49m\u001b[38;5;124;43mno_checks\u001b[39;49m\u001b[38;5;124;43m\"\u001b[39;49m\n\u001b[1;32m     16\u001b[0m \u001b[43m\u001b[49m\u001b[43m)\u001b[49m\n\u001b[1;32m     17\u001b[0m test_dataset \u001b[38;5;241m=\u001b[39m load_dataset(\u001b[38;5;124m\"\u001b[39m\u001b[38;5;124mnarrativeqa\u001b[39m\u001b[38;5;124m\"\u001b[39m, split\u001b[38;5;241m=\u001b[39m\u001b[38;5;124m\"\u001b[39m\u001b[38;5;124mtest\u001b[39m\u001b[38;5;124m\"\u001b[39m, download_mode\u001b[38;5;241m=\u001b[39m\u001b[38;5;124m\"\u001b[39m\u001b[38;5;124mforce_redownload\u001b[39m\u001b[38;5;124m\"\u001b[39m, verification_mode\u001b[38;5;241m=\u001b[39m\u001b[38;5;124m\"\u001b[39m\u001b[38;5;124mno_checks\u001b[39m\u001b[38;5;124m\"\u001b[39m)\n\u001b[1;32m     19\u001b[0m train_dataset \u001b[38;5;241m=\u001b[39m train_dataset\u001b[38;5;241m.\u001b[39mmap(\n\u001b[1;32m     20\u001b[0m     process_narrative_row,\n\u001b[1;32m     21\u001b[0m     remove_columns\u001b[38;5;241m=\u001b[39m[\u001b[38;5;124m\"\u001b[39m\u001b[38;5;124mdocument\u001b[39m\u001b[38;5;124m\"\u001b[39m],\n\u001b[1;32m     22\u001b[0m )\n",
      "File \u001b[0;32m/fs01/home/snajafi/codes/llm-research/llm-env/lib/python3.10/site-packages/datasets/load.py:2614\u001b[0m, in \u001b[0;36mload_dataset\u001b[0;34m(path, name, data_dir, data_files, split, cache_dir, features, download_config, download_mode, verification_mode, ignore_verifications, keep_in_memory, save_infos, revision, token, use_auth_token, task, streaming, num_proc, storage_options, trust_remote_code, **config_kwargs)\u001b[0m\n\u001b[1;32m   2611\u001b[0m     \u001b[38;5;28;01mreturn\u001b[39;00m builder_instance\u001b[38;5;241m.\u001b[39mas_streaming_dataset(split\u001b[38;5;241m=\u001b[39msplit)\n\u001b[1;32m   2613\u001b[0m \u001b[38;5;66;03m# Download and prepare data\u001b[39;00m\n\u001b[0;32m-> 2614\u001b[0m \u001b[43mbuilder_instance\u001b[49m\u001b[38;5;241;43m.\u001b[39;49m\u001b[43mdownload_and_prepare\u001b[49m\u001b[43m(\u001b[49m\n\u001b[1;32m   2615\u001b[0m \u001b[43m    \u001b[49m\u001b[43mdownload_config\u001b[49m\u001b[38;5;241;43m=\u001b[39;49m\u001b[43mdownload_config\u001b[49m\u001b[43m,\u001b[49m\n\u001b[1;32m   2616\u001b[0m \u001b[43m    \u001b[49m\u001b[43mdownload_mode\u001b[49m\u001b[38;5;241;43m=\u001b[39;49m\u001b[43mdownload_mode\u001b[49m\u001b[43m,\u001b[49m\n\u001b[1;32m   2617\u001b[0m \u001b[43m    \u001b[49m\u001b[43mverification_mode\u001b[49m\u001b[38;5;241;43m=\u001b[39;49m\u001b[43mverification_mode\u001b[49m\u001b[43m,\u001b[49m\n\u001b[1;32m   2618\u001b[0m \u001b[43m    \u001b[49m\u001b[43mnum_proc\u001b[49m\u001b[38;5;241;43m=\u001b[39;49m\u001b[43mnum_proc\u001b[49m\u001b[43m,\u001b[49m\n\u001b[1;32m   2619\u001b[0m \u001b[43m    \u001b[49m\u001b[43mstorage_options\u001b[49m\u001b[38;5;241;43m=\u001b[39;49m\u001b[43mstorage_options\u001b[49m\u001b[43m,\u001b[49m\n\u001b[1;32m   2620\u001b[0m \u001b[43m\u001b[49m\u001b[43m)\u001b[49m\n\u001b[1;32m   2622\u001b[0m \u001b[38;5;66;03m# Build dataset for splits\u001b[39;00m\n\u001b[1;32m   2623\u001b[0m keep_in_memory \u001b[38;5;241m=\u001b[39m (\n\u001b[1;32m   2624\u001b[0m     keep_in_memory \u001b[38;5;28;01mif\u001b[39;00m keep_in_memory \u001b[38;5;129;01mis\u001b[39;00m \u001b[38;5;129;01mnot\u001b[39;00m \u001b[38;5;28;01mNone\u001b[39;00m \u001b[38;5;28;01melse\u001b[39;00m is_small_dataset(builder_instance\u001b[38;5;241m.\u001b[39minfo\u001b[38;5;241m.\u001b[39mdataset_size)\n\u001b[1;32m   2625\u001b[0m )\n",
      "File \u001b[0;32m/fs01/home/snajafi/codes/llm-research/llm-env/lib/python3.10/site-packages/datasets/builder.py:1027\u001b[0m, in \u001b[0;36mDatasetBuilder.download_and_prepare\u001b[0;34m(self, output_dir, download_config, download_mode, verification_mode, ignore_verifications, try_from_hf_gcs, dl_manager, base_path, use_auth_token, file_format, max_shard_size, num_proc, storage_options, **download_and_prepare_kwargs)\u001b[0m\n\u001b[1;32m   1025\u001b[0m     \u001b[38;5;28;01mif\u001b[39;00m num_proc \u001b[38;5;129;01mis\u001b[39;00m \u001b[38;5;129;01mnot\u001b[39;00m \u001b[38;5;28;01mNone\u001b[39;00m:\n\u001b[1;32m   1026\u001b[0m         prepare_split_kwargs[\u001b[38;5;124m\"\u001b[39m\u001b[38;5;124mnum_proc\u001b[39m\u001b[38;5;124m\"\u001b[39m] \u001b[38;5;241m=\u001b[39m num_proc\n\u001b[0;32m-> 1027\u001b[0m     \u001b[38;5;28;43mself\u001b[39;49m\u001b[38;5;241;43m.\u001b[39;49m\u001b[43m_download_and_prepare\u001b[49m\u001b[43m(\u001b[49m\n\u001b[1;32m   1028\u001b[0m \u001b[43m        \u001b[49m\u001b[43mdl_manager\u001b[49m\u001b[38;5;241;43m=\u001b[39;49m\u001b[43mdl_manager\u001b[49m\u001b[43m,\u001b[49m\n\u001b[1;32m   1029\u001b[0m \u001b[43m        \u001b[49m\u001b[43mverification_mode\u001b[49m\u001b[38;5;241;43m=\u001b[39;49m\u001b[43mverification_mode\u001b[49m\u001b[43m,\u001b[49m\n\u001b[1;32m   1030\u001b[0m \u001b[43m        \u001b[49m\u001b[38;5;241;43m*\u001b[39;49m\u001b[38;5;241;43m*\u001b[39;49m\u001b[43mprepare_split_kwargs\u001b[49m\u001b[43m,\u001b[49m\n\u001b[1;32m   1031\u001b[0m \u001b[43m        \u001b[49m\u001b[38;5;241;43m*\u001b[39;49m\u001b[38;5;241;43m*\u001b[39;49m\u001b[43mdownload_and_prepare_kwargs\u001b[49m\u001b[43m,\u001b[49m\n\u001b[1;32m   1032\u001b[0m \u001b[43m    \u001b[49m\u001b[43m)\u001b[49m\n\u001b[1;32m   1033\u001b[0m \u001b[38;5;66;03m# Sync info\u001b[39;00m\n\u001b[1;32m   1034\u001b[0m \u001b[38;5;28mself\u001b[39m\u001b[38;5;241m.\u001b[39minfo\u001b[38;5;241m.\u001b[39mdataset_size \u001b[38;5;241m=\u001b[39m \u001b[38;5;28msum\u001b[39m(split\u001b[38;5;241m.\u001b[39mnum_bytes \u001b[38;5;28;01mfor\u001b[39;00m split \u001b[38;5;129;01min\u001b[39;00m \u001b[38;5;28mself\u001b[39m\u001b[38;5;241m.\u001b[39minfo\u001b[38;5;241m.\u001b[39msplits\u001b[38;5;241m.\u001b[39mvalues())\n",
      "File \u001b[0;32m/fs01/home/snajafi/codes/llm-research/llm-env/lib/python3.10/site-packages/datasets/builder.py:1122\u001b[0m, in \u001b[0;36mDatasetBuilder._download_and_prepare\u001b[0;34m(self, dl_manager, verification_mode, **prepare_split_kwargs)\u001b[0m\n\u001b[1;32m   1118\u001b[0m split_dict\u001b[38;5;241m.\u001b[39madd(split_generator\u001b[38;5;241m.\u001b[39msplit_info)\n\u001b[1;32m   1120\u001b[0m \u001b[38;5;28;01mtry\u001b[39;00m:\n\u001b[1;32m   1121\u001b[0m     \u001b[38;5;66;03m# Prepare split will record examples associated to the split\u001b[39;00m\n\u001b[0;32m-> 1122\u001b[0m     \u001b[38;5;28;43mself\u001b[39;49m\u001b[38;5;241;43m.\u001b[39;49m\u001b[43m_prepare_split\u001b[49m\u001b[43m(\u001b[49m\u001b[43msplit_generator\u001b[49m\u001b[43m,\u001b[49m\u001b[43m \u001b[49m\u001b[38;5;241;43m*\u001b[39;49m\u001b[38;5;241;43m*\u001b[39;49m\u001b[43mprepare_split_kwargs\u001b[49m\u001b[43m)\u001b[49m\n\u001b[1;32m   1123\u001b[0m \u001b[38;5;28;01mexcept\u001b[39;00m \u001b[38;5;167;01mOSError\u001b[39;00m \u001b[38;5;28;01mas\u001b[39;00m e:\n\u001b[1;32m   1124\u001b[0m     \u001b[38;5;28;01mraise\u001b[39;00m \u001b[38;5;167;01mOSError\u001b[39;00m(\n\u001b[1;32m   1125\u001b[0m         \u001b[38;5;124m\"\u001b[39m\u001b[38;5;124mCannot find data file. \u001b[39m\u001b[38;5;124m\"\u001b[39m\n\u001b[1;32m   1126\u001b[0m         \u001b[38;5;241m+\u001b[39m (\u001b[38;5;28mself\u001b[39m\u001b[38;5;241m.\u001b[39mmanual_download_instructions \u001b[38;5;129;01mor\u001b[39;00m \u001b[38;5;124m\"\u001b[39m\u001b[38;5;124m\"\u001b[39m)\n\u001b[1;32m   1127\u001b[0m         \u001b[38;5;241m+\u001b[39m \u001b[38;5;124m\"\u001b[39m\u001b[38;5;130;01m\\n\u001b[39;00m\u001b[38;5;124mOriginal error:\u001b[39m\u001b[38;5;130;01m\\n\u001b[39;00m\u001b[38;5;124m\"\u001b[39m\n\u001b[1;32m   1128\u001b[0m         \u001b[38;5;241m+\u001b[39m \u001b[38;5;28mstr\u001b[39m(e)\n\u001b[1;32m   1129\u001b[0m     ) \u001b[38;5;28;01mfrom\u001b[39;00m \u001b[38;5;28;01mNone\u001b[39;00m\n",
      "File \u001b[0;32m/fs01/home/snajafi/codes/llm-research/llm-env/lib/python3.10/site-packages/datasets/builder.py:1882\u001b[0m, in \u001b[0;36mArrowBasedBuilder._prepare_split\u001b[0;34m(self, split_generator, file_format, num_proc, max_shard_size)\u001b[0m\n\u001b[1;32m   1880\u001b[0m job_id \u001b[38;5;241m=\u001b[39m \u001b[38;5;241m0\u001b[39m\n\u001b[1;32m   1881\u001b[0m \u001b[38;5;28;01mwith\u001b[39;00m pbar:\n\u001b[0;32m-> 1882\u001b[0m     \u001b[38;5;28;01mfor\u001b[39;00m job_id, done, content \u001b[38;5;129;01min\u001b[39;00m \u001b[38;5;28mself\u001b[39m\u001b[38;5;241m.\u001b[39m_prepare_split_single(\n\u001b[1;32m   1883\u001b[0m         gen_kwargs\u001b[38;5;241m=\u001b[39mgen_kwargs, job_id\u001b[38;5;241m=\u001b[39mjob_id, \u001b[38;5;241m*\u001b[39m\u001b[38;5;241m*\u001b[39m_prepare_split_args\n\u001b[1;32m   1884\u001b[0m     ):\n\u001b[1;32m   1885\u001b[0m         \u001b[38;5;28;01mif\u001b[39;00m done:\n\u001b[1;32m   1886\u001b[0m             result \u001b[38;5;241m=\u001b[39m content\n",
      "File \u001b[0;32m/fs01/home/snajafi/codes/llm-research/llm-env/lib/python3.10/site-packages/datasets/builder.py:2038\u001b[0m, in \u001b[0;36mArrowBasedBuilder._prepare_split_single\u001b[0;34m(self, gen_kwargs, fpath, file_format, max_shard_size, job_id)\u001b[0m\n\u001b[1;32m   2036\u001b[0m     \u001b[38;5;28;01mif\u001b[39;00m \u001b[38;5;28misinstance\u001b[39m(e, DatasetGenerationError):\n\u001b[1;32m   2037\u001b[0m         \u001b[38;5;28;01mraise\u001b[39;00m\n\u001b[0;32m-> 2038\u001b[0m     \u001b[38;5;28;01mraise\u001b[39;00m DatasetGenerationError(\u001b[38;5;124m\"\u001b[39m\u001b[38;5;124mAn error occurred while generating the dataset\u001b[39m\u001b[38;5;124m\"\u001b[39m) \u001b[38;5;28;01mfrom\u001b[39;00m \u001b[38;5;21;01me\u001b[39;00m\n\u001b[1;32m   2040\u001b[0m \u001b[38;5;28;01myield\u001b[39;00m job_id, \u001b[38;5;28;01mTrue\u001b[39;00m, (total_num_examples, total_num_bytes, writer\u001b[38;5;241m.\u001b[39m_features, num_shards, shard_lengths)\n",
      "\u001b[0;31mDatasetGenerationError\u001b[0m: An error occurred while generating the dataset"
     ]
    }
   ],
   "source": [
    "rc_train_dataset, rc_dev_dataset, rc_test_dataset = read_race_dataset()\n",
    "nq_train_dataset, nq_dev_dataset, nq_test_dataset = read_narrative_dataset()\n",
    "sq_train_dataset, sq_dev_dataset, sq_test_dataset = read_squad_dataset()"
   ]
  },
  {
   "cell_type": "code",
   "execution_count": 27,
   "id": "75b2adb5-f125-48fb-afd1-2109477ceb56",
   "metadata": {},
   "outputs": [
    {
     "name": "stdout",
     "output_type": "stream",
     "text": [
      "11873\n",
      "11873\n",
      "11873\n",
      "4934\n",
      "4934\n",
      "4934\n",
      "10557\n",
      "10557\n",
      "10557\n"
     ]
    }
   ],
   "source": [
    "seeds = [42, 100, 13, 87, 21]\n",
    "few_shot_split_sizes = [16, 128, 1024]\n",
    "dataset_names = [\"squad\", \"race\", \"narrativeqa\"]\n",
    "\n",
    "\n",
    "def write_eval(eval_dataset: Any, dataset_name: str) -> None:\n",
    "    eval_df = pd.DataFrame([row for row in eval_dataset])\n",
    "    for few_shot_split_size in few_shot_split_sizes:\n",
    "        print(len(eval_df))\n",
    "        Path(f\"./{few_shot_split_size}-shot-datasets/{dataset_name}\").mkdir(parents=True, exist_ok=True)\n",
    "        eval_df.to_csv(\n",
    "            f\"./{few_shot_split_size}-shot-datasets/{dataset_name}/test.tsv\",\n",
    "            header=True,\n",
    "            index=False,\n",
    "            sep=\"\\t\",\n",
    "        )\n",
    "\n",
    "\n",
    "write_eval(sq_test_dataset, \"squad\")\n",
    "write_eval(rc_test_dataset, \"race\")\n",
    "write_eval(nq_test_dataset, \"narrativeqa\")\n",
    "\n",
    "\n",
    "def write_train_dev(train_dataset: Any, dataset_name: str) -> None:\n",
    "    train_rows = [row for row in train_dataset]\n",
    "    for seed in seeds:\n",
    "        random.seed(seed)\n",
    "        random.shuffle(train_rows)\n",
    "        for few_shot_split_size in few_shot_split_sizes:\n",
    "            fewshot_train_rows = train_rows[0:few_shot_split_size]\n",
    "            fewshot_val_rows = train_rows[few_shot_split_size : few_shot_split_size * 2]\n",
    "\n",
    "            train_df = pd.DataFrame(fewshot_train_rows)\n",
    "            csv_file = f\"./{few_shot_split_size}-shot-datasets\"\n",
    "            Path(f\"{csv_file}/{dataset_name}\").mkdir(parents=True, exist_ok=True)\n",
    "            csv_file = f\"{csv_file}/{dataset_name}/{few_shot_split_size}-{seed}-train.tsv\"\n",
    "            train_df.to_csv(\n",
    "                csv_file,\n",
    "                header=True,\n",
    "                index=False,\n",
    "                sep=\"\\t\",\n",
    "            )\n",
    "            val_df = pd.DataFrame(fewshot_val_rows)\n",
    "            csv_file = f\"./{few_shot_split_size}-shot-datasets\"\n",
    "            Path(f\"{csv_file}/{dataset_name}\").mkdir(parents=True, exist_ok=True)\n",
    "            csv_file = f\"{csv_file}/{dataset_name}/{few_shot_split_size}-{seed}-dev.tsv\"\n",
    "            val_df.to_csv(\n",
    "                csv_file,\n",
    "                header=True,\n",
    "                index=False,\n",
    "                sep=\"\\t\",\n",
    "            )\n",
    "\n",
    "\n",
    "write_train_dev(sq_train_dataset, \"squad\")\n",
    "write_train_dev(rc_train_dataset, \"race\")\n",
    "write_train_dev(nq_train_dataset, \"narrativeqa\")"
   ]
  },
  {
   "cell_type": "code",
   "execution_count": 28,
   "id": "b93e6644-f7b5-44a0-8dc6-6a95ae86fd0a",
   "metadata": {},
   "outputs": [
    {
     "name": "stdout",
     "output_type": "stream",
     "text": [
      "Dataset({\n",
      "    features: ['article', 'answer'],\n",
      "    num_rows: 4934\n",
      "})\n"
     ]
    }
   ],
   "source": [
    "print(rc_test_dataset)"
   ]
  },
  {
   "cell_type": "code",
   "execution_count": 29,
   "id": "2c5c984a-63a2-4984-b24b-cea29a708754",
   "metadata": {},
   "outputs": [
    {
     "name": "stdout",
     "output_type": "stream",
     "text": [
      "Dataset({\n",
      "    features: ['article', 'answer'],\n",
      "    num_rows: 10557\n",
      "})\n"
     ]
    }
   ],
   "source": [
    "print(nq_test_dataset)"
   ]
  },
  {
   "cell_type": "code",
   "execution_count": 30,
   "id": "8c626110-7680-42fe-8284-74aa5055c10c",
   "metadata": {},
   "outputs": [
    {
     "name": "stdout",
     "output_type": "stream",
     "text": [
      "Dataset({\n",
      "    features: ['article', 'answer'],\n",
      "    num_rows: 11873\n",
      "})\n"
     ]
    }
   ],
   "source": [
    "print(sq_test_dataset)"
   ]
  }
 ],
 "metadata": {
  "kernelspec": {
   "display_name": "Python 3 (ipykernel)",
   "language": "python",
   "name": "python3"
  },
  "language_info": {
   "codemirror_mode": {
    "name": "ipython",
    "version": 3
   },
   "file_extension": ".py",
   "mimetype": "text/x-python",
   "name": "python",
   "nbconvert_exporter": "python",
   "pygments_lexer": "ipython3",
   "version": "3.10.12"
  }
 },
 "nbformat": 4,
 "nbformat_minor": 5
}
