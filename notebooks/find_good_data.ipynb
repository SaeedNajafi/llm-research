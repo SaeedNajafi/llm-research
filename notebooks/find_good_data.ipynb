{
 "cells": [
  {
   "cell_type": "code",
   "execution_count": 17,
   "id": "5a2f9376-f7a8-4a8d-aa01-97c670452405",
   "metadata": {},
   "outputs": [],
   "source": [
    "import numpy as np\n",
    "import pandas as pd"
   ]
  },
  {
   "cell_type": "code",
   "execution_count": 18,
   "id": "7c81f170-2dc6-4ec0-ad07-73192e870d2b",
   "metadata": {},
   "outputs": [],
   "source": [
    "path = \"/scratch/ssd004/scratch/snajafi/checkpoints/natural-instructions-2.8/tasks\"\n",
    "file = \"selected_instances_chunk_3.gemma_output.csv\"\n",
    "df = pd.read_csv(f\"{path}/{file}\", sep=\",\")\n",
    "gemma_outputs = df.gemma_output.tolist()\n",
    "gemma_logits = df.gemma_logit.tolist()"
   ]
  },
  {
   "cell_type": "code",
   "execution_count": 19,
   "id": "55f07e50-1116-4216-9007-d709609f93b6",
   "metadata": {},
   "outputs": [],
   "source": [
    "file = \"selected_instances_chunk_3.csv\"\n",
    "clean_file = \"selected_instances_chunk_3.gemma_output.cleaned.csv\"\n",
    "original_df = pd.read_csv(f\"{path}/{file}\", sep=\",\")\n",
    "instructions = original_df.instruction.tolist()\n",
    "inputs = original_df.input.tolist()\n",
    "outputs = original_df.output.tolist()\n",
    "ids = original_df.id.tolist()"
   ]
  },
  {
   "cell_type": "code",
   "execution_count": 20,
   "id": "3280fa06-df10-41e4-9918-8a53183914f5",
   "metadata": {},
   "outputs": [
    {
     "name": "stdout",
     "output_type": "stream",
     "text": [
      "1545\n"
     ]
    }
   ],
   "source": [
    "unique_instructions = list(set(instructions))\n",
    "scores_per_instruction = {instruction: [] for instruction in unique_instructions}\n",
    "indices_per_instruction = {instruction: [] for instruction in unique_instructions}\n",
    "\n",
    "for idx, logit in enumerate(gemma_logits):\n",
    "    scores_per_instruction[instructions[idx]].append(logit)\n",
    "    indices_per_instruction[instructions[idx]].append(idx)\n",
    "\n",
    "print(len(scores_per_instruction.keys()))"
   ]
  },
  {
   "cell_type": "code",
   "execution_count": 21,
   "id": "dcae099f-1151-4ffe-83ed-5043a589dc7e",
   "metadata": {},
   "outputs": [],
   "source": [
    "zscores_per_instruction = {instruction: None for instruction in unique_instructions}\n",
    "for instruction, logits in scores_per_instruction.items():\n",
    "    if logits:\n",
    "        logits_arr = np.array(logits)\n",
    "        mean_arr = np.mean(logits_arr)\n",
    "        std_arr = np.std(logits_arr)\n",
    "        zscores = (logits_arr - mean_arr) / (std_arr + 1e-16)\n",
    "        zscores_per_instruction[instruction] = zscores\n",
    "\n",
    "keep_per_instruction = {instruction: [] for instruction in unique_instructions}\n",
    "for instruction, zscores in zscores_per_instruction.items():\n",
    "    if zscores is not None:\n",
    "        for idx, score in enumerate(zscores):\n",
    "            if score >= 0.0 and score <= 2.0:\n",
    "                keep_per_instruction[instruction].append(indices_per_instruction[instruction][idx])"
   ]
  },
  {
   "cell_type": "code",
   "execution_count": 22,
   "id": "5fb3b3d5-8094-4e13-abee-eb16ac60ae93",
   "metadata": {},
   "outputs": [],
   "source": [
    "keep_rows = []\n",
    "for instruction, indices in keep_per_instruction.items():\n",
    "    if indices:\n",
    "        for idx in indices:\n",
    "            row = {\n",
    "                \"instruction\": instruction,\n",
    "                \"id\": ids[idx],\n",
    "                \"input\": inputs[idx],\n",
    "                \"output\": outputs[idx],\n",
    "                \"gemma_logit\": gemma_logits[idx],\n",
    "                \"gemma_output\": gemma_outputs[idx],\n",
    "            }\n",
    "            keep_rows.append(row)\n",
    "\n",
    "to_write_df = pd.DataFrame.from_dict(keep_rows)\n",
    "to_write_df.to_csv(f\"{path}/{clean_file}\", header=True, sep=\",\", index=False)"
   ]
  },
  {
   "cell_type": "code",
   "execution_count": 23,
   "id": "75652427-d961-4a62-9822-40f31e9d5d77",
   "metadata": {},
   "outputs": [
    {
     "name": "stdout",
     "output_type": "stream",
     "text": [
      "1938\n"
     ]
    }
   ],
   "source": [
    "print(len(keep_rows))"
   ]
  },
  {
   "cell_type": "code",
   "execution_count": 24,
   "id": "e33c05f6-d2ad-4304-99fd-81ceb9ed5cf9",
   "metadata": {},
   "outputs": [
    {
     "name": "stdout",
     "output_type": "stream",
     "text": [
      "40221\n"
     ]
    }
   ],
   "source": [
    "print(len(ids))"
   ]
  },
  {
   "cell_type": "code",
   "execution_count": null,
   "id": "45e2bdc5-d20d-46a7-9e6e-38fa7c585139",
   "metadata": {},
   "outputs": [],
   "source": []
  }
 ],
 "metadata": {
  "kernelspec": {
   "display_name": "Python 3 (ipykernel)",
   "language": "python",
   "name": "python3"
  },
  "language_info": {
   "codemirror_mode": {
    "name": "ipython",
    "version": 3
   },
   "file_extension": ".py",
   "mimetype": "text/x-python",
   "name": "python",
   "nbconvert_exporter": "python",
   "pygments_lexer": "ipython3",
   "version": "3.10.12"
  }
 },
 "nbformat": 4,
 "nbformat_minor": 5
}
