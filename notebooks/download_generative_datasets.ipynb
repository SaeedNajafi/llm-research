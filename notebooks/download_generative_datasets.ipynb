{
 "cells": [
  {
   "cell_type": "code",
   "execution_count": 17,
   "id": "f1284483-a3a8-4570-b4da-32fb1c5b5254",
   "metadata": {},
   "outputs": [],
   "source": [
    "import random\n",
    "from pathlib import Path\n",
    "from typing import Any\n",
    "\n",
    "import pandas as pd\n",
    "from datasets import load_dataset"
   ]
  },
  {
   "cell_type": "code",
   "execution_count": 18,
   "id": "66d99fa9-7226-4e1e-a0b4-28916084ea75",
   "metadata": {},
   "outputs": [],
   "source": [
    "def white_space_fix(text: Any) -> Any:\n",
    "    return \" \".join(text.strip().split()).strip()"
   ]
  },
  {
   "cell_type": "code",
   "execution_count": 19,
   "id": "8e334b6a-cfef-411f-a40b-6a43067ee652",
   "metadata": {},
   "outputs": [],
   "source": [
    "def read_narrative_dataset() -> Any:\n",
    "    \"\"\"Read the narrative qa dataset.\"\"\"\n",
    "\n",
    "    def process_narrative_row(row: Any) -> Any:\n",
    "        \"\"\"Helper functions for NarrativeQA Dataset.\"\"\"\n",
    "        all_answers = list(set([white_space_fix(answer[\"text\"]) for answer in row[\"answers\"]]))\n",
    "        answer = \"[<@>]\".join(all_answers)\n",
    "\n",
    "        question = row[\"question\"][\"text\"]\n",
    "\n",
    "        article = row[\"document\"][\"summary\"][\"text\"]\n",
    "\n",
    "        context = \"Question: \" + question + \" Context: \" + article + \" </s>\"\n",
    "\n",
    "        return {\n",
    "            \"article\": white_space_fix(context),\n",
    "            \"answer\": white_space_fix(answer + \" </s>\"),\n",
    "        }\n",
    "\n",
    "    train_dataset = load_dataset(\"narrativeqa\", split=\"train\", download_mode=\"force_redownload\", verification_mode=\"no_checks\")\n",
    "    dev_dataset = load_dataset(\n",
    "        \"narrativeqa\", split=\"validation\", download_mode=\"force_redownload\", verification_mode=\"no_checks\"\n",
    "    )\n",
    "    test_dataset = load_dataset(\"narrativeqa\", split=\"test\", download_mode=\"force_redownload\", verification_mode=\"no_checks\")\n",
    "\n",
    "    train_dataset = train_dataset.map(\n",
    "        process_narrative_row,\n",
    "        remove_columns=[\"document\", \"answers\", \"question\"],\n",
    "    )\n",
    "\n",
    "    dev_dataset = dev_dataset.map(\n",
    "        process_narrative_row,\n",
    "        remove_columns=[\"document\", \"answers\", \"question\"],\n",
    "    )\n",
    "\n",
    "    test_dataset = test_dataset.map(\n",
    "        process_narrative_row,\n",
    "        remove_columns=[\"document\", \"answers\", \"question\"],\n",
    "    )\n",
    "    return train_dataset, dev_dataset, test_dataset"
   ]
  },
  {
   "cell_type": "code",
   "execution_count": 20,
   "id": "4d88d552-f665-438b-a983-aa384a064251",
   "metadata": {},
   "outputs": [],
   "source": [
    "def read_race_dataset() -> Any:\n",
    "    \"\"\"Function to create the race dataset.\"\"\"\n",
    "\n",
    "    def process_race_row(row: Any) -> Any:\n",
    "        \"\"\"Helper function.\"\"\"\n",
    "        option_code = row[\"answer\"]\n",
    "        if option_code == \"A\":\n",
    "            option_idx = 0\n",
    "        elif option_code == \"B\":\n",
    "            option_idx = 1\n",
    "        elif option_code == \"C\":\n",
    "            option_idx = 2\n",
    "        elif option_code == \"D\":\n",
    "            option_idx = 3\n",
    "\n",
    "        answer = row[\"options\"][option_idx]\n",
    "        question = row[\"question\"]\n",
    "        article = row[\"article\"]\n",
    "        return {\n",
    "            \"article\": white_space_fix(\"Question: \" + question + \" Context: \" + article + \" </s>\"),\n",
    "            \"answer\": white_space_fix(answer + \" </s>\"),\n",
    "        }\n",
    "\n",
    "    train_dataset = load_dataset(\"race\", \"all\", split=\"train\", download_mode=\"force_redownload\", verification_mode=\"no_checks\")\n",
    "    train_dataset = train_dataset.map(\n",
    "        process_race_row,\n",
    "        remove_columns=[\"options\", \"example_id\", \"question\"],\n",
    "    )\n",
    "    dev_dataset = load_dataset(\n",
    "        \"race\", \"all\", split=\"validation\", download_mode=\"force_redownload\", verification_mode=\"no_checks\"\n",
    "    )\n",
    "    dev_dataset = dev_dataset.map(\n",
    "        process_race_row,\n",
    "        remove_columns=[\"options\", \"example_id\", \"question\"],\n",
    "    )\n",
    "    test_dataset = load_dataset(\"race\", \"all\", split=\"test\", download_mode=\"force_redownload\", verification_mode=\"no_checks\")\n",
    "    test_dataset = test_dataset.map(\n",
    "        process_race_row,\n",
    "        remove_columns=[\"options\", \"example_id\", \"question\"],\n",
    "    )\n",
    "    return train_dataset, dev_dataset, test_dataset"
   ]
  },
  {
   "cell_type": "code",
   "execution_count": 21,
   "id": "338303eb-1147-42fc-b788-bd8f930fede2",
   "metadata": {},
   "outputs": [],
   "source": [
    "def read_squad_dataset() -> Any:\n",
    "    def process_squad_row(row: Any) -> Any:\n",
    "        context = row[\"context\"]\n",
    "        question = row[\"question\"]\n",
    "        if row[\"answers\"][\"text\"]:\n",
    "            all_answers = list(set([white_space_fix(answer) for answer in row[\"answers\"][\"text\"]]))\n",
    "            answ = \"[<@>]\".join(all_answers)\n",
    "        else:\n",
    "            answ = \"no_answer\"\n",
    "        return {\n",
    "            \"article\": white_space_fix(\"Question: \" + question + \" Context: \" + context + \" </s>\"),\n",
    "            \"answer\": white_space_fix(answ + \" </s>\"),\n",
    "        }\n",
    "\n",
    "    train_dataset = load_dataset(\"squad_v2\", split=\"train\", download_mode=\"force_redownload\", verification_mode=\"no_checks\")\n",
    "    train_dataset = train_dataset.map(\n",
    "        process_squad_row,\n",
    "        remove_columns=[\"id\", \"title\", \"context\", \"question\", \"answers\"],\n",
    "    )\n",
    "    dev_dataset = load_dataset(\"squad_v2\", split=\"validation\", download_mode=\"force_redownload\", verification_mode=\"no_checks\")\n",
    "    dev_dataset = dev_dataset.map(\n",
    "        process_squad_row,\n",
    "        remove_columns=[\"id\", \"title\", \"context\", \"question\", \"answers\"],\n",
    "    )\n",
    "    return train_dataset, dev_dataset, dev_dataset"
   ]
  },
  {
   "cell_type": "code",
   "execution_count": 22,
   "id": "d7af4f85-5eae-48ba-a592-487f4939d9a8",
   "metadata": {},
   "outputs": [
    {
     "data": {
      "application/vnd.jupyter.widget-view+json": {
       "model_id": "ab754583dc284da7bfb64410b3d2d4f1",
       "version_major": 2,
       "version_minor": 0
      },
      "text/plain": [
       "Downloading readme:   0%|          | 0.00/11.0k [00:00<?, ?B/s]"
      ]
     },
     "metadata": {},
     "output_type": "display_data"
    },
    {
     "data": {
      "application/vnd.jupyter.widget-view+json": {
       "model_id": "c3d69616a9af41c8a76b30cec312d943",
       "version_major": 2,
       "version_minor": 0
      },
      "text/plain": [
       "Downloading data:   0%|          | 0.00/2.08M [00:00<?, ?B/s]"
      ]
     },
     "metadata": {},
     "output_type": "display_data"
    },
    {
     "data": {
      "application/vnd.jupyter.widget-view+json": {
       "model_id": "9778cd8070c442e9966a0d8c300f16e3",
       "version_major": 2,
       "version_minor": 0
      },
      "text/plain": [
       "Downloading data:   0%|          | 0.00/37.4M [00:00<?, ?B/s]"
      ]
     },
     "metadata": {},
     "output_type": "display_data"
    },
    {
     "data": {
      "application/vnd.jupyter.widget-view+json": {
       "model_id": "4372bc186a5f4844bdb10b472836971d",
       "version_major": 2,
       "version_minor": 0
      },
      "text/plain": [
       "Downloading data:   0%|          | 0.00/2.05M [00:00<?, ?B/s]"
      ]
     },
     "metadata": {},
     "output_type": "display_data"
    },
    {
     "data": {
      "application/vnd.jupyter.widget-view+json": {
       "model_id": "e546a4690ffb472aa39adf450ff37654",
       "version_major": 2,
       "version_minor": 0
      },
      "text/plain": [
       "Generating test split:   0%|          | 0/4934 [00:00<?, ? examples/s]"
      ]
     },
     "metadata": {},
     "output_type": "display_data"
    },
    {
     "data": {
      "application/vnd.jupyter.widget-view+json": {
       "model_id": "a34b4301f32541f68fac50068b94c3ab",
       "version_major": 2,
       "version_minor": 0
      },
      "text/plain": [
       "Generating train split:   0%|          | 0/87866 [00:00<?, ? examples/s]"
      ]
     },
     "metadata": {},
     "output_type": "display_data"
    },
    {
     "data": {
      "application/vnd.jupyter.widget-view+json": {
       "model_id": "a005850efb494cdda19775559f675904",
       "version_major": 2,
       "version_minor": 0
      },
      "text/plain": [
       "Generating validation split:   0%|          | 0/4887 [00:00<?, ? examples/s]"
      ]
     },
     "metadata": {},
     "output_type": "display_data"
    },
    {
     "data": {
      "application/vnd.jupyter.widget-view+json": {
       "model_id": "d4511308c6f74d0bb59f03e8a5d5f6f2",
       "version_major": 2,
       "version_minor": 0
      },
      "text/plain": [
       "Map:   0%|          | 0/87866 [00:00<?, ? examples/s]"
      ]
     },
     "metadata": {},
     "output_type": "display_data"
    },
    {
     "data": {
      "application/vnd.jupyter.widget-view+json": {
       "model_id": "e9f4bf6ea4fd412eabf7d143f585b1ca",
       "version_major": 2,
       "version_minor": 0
      },
      "text/plain": [
       "Downloading readme:   0%|          | 0.00/11.0k [00:00<?, ?B/s]"
      ]
     },
     "metadata": {},
     "output_type": "display_data"
    },
    {
     "data": {
      "application/vnd.jupyter.widget-view+json": {
       "model_id": "a3fb58e3c7754654b0e0c3665f39bad0",
       "version_major": 2,
       "version_minor": 0
      },
      "text/plain": [
       "Downloading data:   0%|          | 0.00/2.08M [00:00<?, ?B/s]"
      ]
     },
     "metadata": {},
     "output_type": "display_data"
    },
    {
     "data": {
      "application/vnd.jupyter.widget-view+json": {
       "model_id": "7c4b4bf8328e4af6944e5445734e070b",
       "version_major": 2,
       "version_minor": 0
      },
      "text/plain": [
       "Downloading data:   0%|          | 0.00/37.4M [00:00<?, ?B/s]"
      ]
     },
     "metadata": {},
     "output_type": "display_data"
    },
    {
     "data": {
      "application/vnd.jupyter.widget-view+json": {
       "model_id": "3817b049cc26468192446fcc222785a5",
       "version_major": 2,
       "version_minor": 0
      },
      "text/plain": [
       "Downloading data:   0%|          | 0.00/2.05M [00:00<?, ?B/s]"
      ]
     },
     "metadata": {},
     "output_type": "display_data"
    },
    {
     "data": {
      "application/vnd.jupyter.widget-view+json": {
       "model_id": "5a23fb1f3f224185a103c37ee7da1cc8",
       "version_major": 2,
       "version_minor": 0
      },
      "text/plain": [
       "Generating test split:   0%|          | 0/4934 [00:00<?, ? examples/s]"
      ]
     },
     "metadata": {},
     "output_type": "display_data"
    },
    {
     "data": {
      "application/vnd.jupyter.widget-view+json": {
       "model_id": "dbe195a3ebfb4e64bcfa5b72ac144144",
       "version_major": 2,
       "version_minor": 0
      },
      "text/plain": [
       "Generating train split:   0%|          | 0/87866 [00:00<?, ? examples/s]"
      ]
     },
     "metadata": {},
     "output_type": "display_data"
    },
    {
     "data": {
      "application/vnd.jupyter.widget-view+json": {
       "model_id": "37173c2247ef42f09990361fb415c9b5",
       "version_major": 2,
       "version_minor": 0
      },
      "text/plain": [
       "Generating validation split:   0%|          | 0/4887 [00:00<?, ? examples/s]"
      ]
     },
     "metadata": {},
     "output_type": "display_data"
    },
    {
     "data": {
      "application/vnd.jupyter.widget-view+json": {
       "model_id": "35e7ad968c334dd695028c4a30b73ce2",
       "version_major": 2,
       "version_minor": 0
      },
      "text/plain": [
       "Map:   0%|          | 0/4887 [00:00<?, ? examples/s]"
      ]
     },
     "metadata": {},
     "output_type": "display_data"
    },
    {
     "data": {
      "application/vnd.jupyter.widget-view+json": {
       "model_id": "bbdcff66036c4858a62bbb29d76b81b0",
       "version_major": 2,
       "version_minor": 0
      },
      "text/plain": [
       "Downloading readme:   0%|          | 0.00/11.0k [00:00<?, ?B/s]"
      ]
     },
     "metadata": {},
     "output_type": "display_data"
    },
    {
     "data": {
      "application/vnd.jupyter.widget-view+json": {
       "model_id": "71147f3143c24c9db84c0f26012e2cb1",
       "version_major": 2,
       "version_minor": 0
      },
      "text/plain": [
       "Downloading data:   0%|          | 0.00/2.08M [00:00<?, ?B/s]"
      ]
     },
     "metadata": {},
     "output_type": "display_data"
    },
    {
     "data": {
      "application/vnd.jupyter.widget-view+json": {
       "model_id": "35861dfda9064e2e83054e11e62085a5",
       "version_major": 2,
       "version_minor": 0
      },
      "text/plain": [
       "Downloading data:   0%|          | 0.00/37.4M [00:00<?, ?B/s]"
      ]
     },
     "metadata": {},
     "output_type": "display_data"
    },
    {
     "data": {
      "application/vnd.jupyter.widget-view+json": {
       "model_id": "b918d88a9f614de48eff1b0dd4f0fa94",
       "version_major": 2,
       "version_minor": 0
      },
      "text/plain": [
       "Downloading data:   0%|          | 0.00/2.05M [00:00<?, ?B/s]"
      ]
     },
     "metadata": {},
     "output_type": "display_data"
    },
    {
     "data": {
      "application/vnd.jupyter.widget-view+json": {
       "model_id": "17c046a474a341df8f264588f5d64c01",
       "version_major": 2,
       "version_minor": 0
      },
      "text/plain": [
       "Generating test split:   0%|          | 0/4934 [00:00<?, ? examples/s]"
      ]
     },
     "metadata": {},
     "output_type": "display_data"
    },
    {
     "data": {
      "application/vnd.jupyter.widget-view+json": {
       "model_id": "2d368c7d2dae4a15aef243b373317f8a",
       "version_major": 2,
       "version_minor": 0
      },
      "text/plain": [
       "Generating train split:   0%|          | 0/87866 [00:00<?, ? examples/s]"
      ]
     },
     "metadata": {},
     "output_type": "display_data"
    },
    {
     "data": {
      "application/vnd.jupyter.widget-view+json": {
       "model_id": "ec7268b3b8d644ea82626c76a1b9368c",
       "version_major": 2,
       "version_minor": 0
      },
      "text/plain": [
       "Generating validation split:   0%|          | 0/4887 [00:00<?, ? examples/s]"
      ]
     },
     "metadata": {},
     "output_type": "display_data"
    },
    {
     "data": {
      "application/vnd.jupyter.widget-view+json": {
       "model_id": "6cc7d5636a294815ba5858ff5a8200db",
       "version_major": 2,
       "version_minor": 0
      },
      "text/plain": [
       "Map:   0%|          | 0/4934 [00:00<?, ? examples/s]"
      ]
     },
     "metadata": {},
     "output_type": "display_data"
    },
    {
     "data": {
      "application/vnd.jupyter.widget-view+json": {
       "model_id": "f5d459bed2374dbe8fc238c2aee153f4",
       "version_major": 2,
       "version_minor": 0
      },
      "text/plain": [
       "Downloading builder script:   0%|          | 0.00/8.23k [00:00<?, ?B/s]"
      ]
     },
     "metadata": {},
     "output_type": "display_data"
    },
    {
     "data": {
      "application/vnd.jupyter.widget-view+json": {
       "model_id": "bc65bce203b8420893823508a0ce5490",
       "version_major": 2,
       "version_minor": 0
      },
      "text/plain": [
       "Downloading readme:   0%|          | 0.00/10.4k [00:00<?, ?B/s]"
      ]
     },
     "metadata": {},
     "output_type": "display_data"
    },
    {
     "data": {
      "application/vnd.jupyter.widget-view+json": {
       "model_id": "d4b235905ca84eac910adb51d8196568",
       "version_major": 2,
       "version_minor": 0
      },
      "text/plain": [
       "Downloading data:   0%|          | 0.00/187M [00:00<?, ?B/s]"
      ]
     },
     "metadata": {},
     "output_type": "display_data"
    },
    {
     "data": {
      "application/vnd.jupyter.widget-view+json": {
       "model_id": "eb2c8f6ea77b4a11b0cd3881ca118d9c",
       "version_major": 2,
       "version_minor": 0
      },
      "text/plain": [
       "Downloading data:   0%|          | 0.00/5.11M [00:00<?, ?B/s]"
      ]
     },
     "metadata": {},
     "output_type": "display_data"
    },
    {
     "data": {
      "application/vnd.jupyter.widget-view+json": {
       "model_id": "4560c462580b4ef0b2fcd81435e9cc4e",
       "version_major": 2,
       "version_minor": 0
      },
      "text/plain": [
       "Generating train split:   0%|          | 0/32747 [00:00<?, ? examples/s]"
      ]
     },
     "metadata": {},
     "output_type": "display_data"
    },
    {
     "data": {
      "application/vnd.jupyter.widget-view+json": {
       "model_id": "3deba148ba9d4b80b829738bfe07562b",
       "version_major": 2,
       "version_minor": 0
      },
      "text/plain": [
       "Generating test split:   0%|          | 0/10557 [00:00<?, ? examples/s]"
      ]
     },
     "metadata": {},
     "output_type": "display_data"
    },
    {
     "data": {
      "application/vnd.jupyter.widget-view+json": {
       "model_id": "ac719154174e45b380a0107e09060843",
       "version_major": 2,
       "version_minor": 0
      },
      "text/plain": [
       "Generating validation split:   0%|          | 0/3461 [00:00<?, ? examples/s]"
      ]
     },
     "metadata": {},
     "output_type": "display_data"
    },
    {
     "data": {
      "application/vnd.jupyter.widget-view+json": {
       "model_id": "25cf8ee4627f4061b17fecb78a7a251b",
       "version_major": 2,
       "version_minor": 0
      },
      "text/plain": [
       "Loading dataset shards:   0%|          | 0/17 [00:00<?, ?it/s]"
      ]
     },
     "metadata": {},
     "output_type": "display_data"
    },
    {
     "data": {
      "application/vnd.jupyter.widget-view+json": {
       "model_id": "63097cc8d85741a99d6e58ad6d9c0635",
       "version_major": 2,
       "version_minor": 0
      },
      "text/plain": [
       "Downloading builder script:   0%|          | 0.00/8.23k [00:00<?, ?B/s]"
      ]
     },
     "metadata": {},
     "output_type": "display_data"
    },
    {
     "data": {
      "application/vnd.jupyter.widget-view+json": {
       "model_id": "13b332caa64949a799cfd02cc5d12422",
       "version_major": 2,
       "version_minor": 0
      },
      "text/plain": [
       "Downloading readme:   0%|          | 0.00/10.4k [00:00<?, ?B/s]"
      ]
     },
     "metadata": {},
     "output_type": "display_data"
    },
    {
     "data": {
      "application/vnd.jupyter.widget-view+json": {
       "model_id": "099a31a99e674abe9d5b593d227c5b7d",
       "version_major": 2,
       "version_minor": 0
      },
      "text/plain": [
       "Downloading data:   0%|          | 0.00/187M [00:00<?, ?B/s]"
      ]
     },
     "metadata": {},
     "output_type": "display_data"
    },
    {
     "data": {
      "application/vnd.jupyter.widget-view+json": {
       "model_id": "81cb4fd699de460e9fbee6a267d4b657",
       "version_major": 2,
       "version_minor": 0
      },
      "text/plain": [
       "Downloading data:   0%|          | 0.00/5.11M [00:00<?, ?B/s]"
      ]
     },
     "metadata": {},
     "output_type": "display_data"
    },
    {
     "data": {
      "application/vnd.jupyter.widget-view+json": {
       "model_id": "803e036e9f294e9895ddb22ef9809b56",
       "version_major": 2,
       "version_minor": 0
      },
      "text/plain": [
       "Generating train split:   0%|          | 0/32747 [00:00<?, ? examples/s]"
      ]
     },
     "metadata": {},
     "output_type": "display_data"
    },
    {
     "data": {
      "application/vnd.jupyter.widget-view+json": {
       "model_id": "a6d807b089c74e93a93ad41b8084729d",
       "version_major": 2,
       "version_minor": 0
      },
      "text/plain": [
       "Generating test split:   0%|          | 0/10557 [00:00<?, ? examples/s]"
      ]
     },
     "metadata": {},
     "output_type": "display_data"
    },
    {
     "data": {
      "application/vnd.jupyter.widget-view+json": {
       "model_id": "8a6a73a1b62a4d939e76aec62019be82",
       "version_major": 2,
       "version_minor": 0
      },
      "text/plain": [
       "Generating validation split:   0%|          | 0/3461 [00:00<?, ? examples/s]"
      ]
     },
     "metadata": {},
     "output_type": "display_data"
    },
    {
     "data": {
      "application/vnd.jupyter.widget-view+json": {
       "model_id": "29783da08db7409a8e7fbcdc069da630",
       "version_major": 2,
       "version_minor": 0
      },
      "text/plain": [
       "Downloading builder script:   0%|          | 0.00/8.23k [00:00<?, ?B/s]"
      ]
     },
     "metadata": {},
     "output_type": "display_data"
    },
    {
     "data": {
      "application/vnd.jupyter.widget-view+json": {
       "model_id": "09fc5bf4330647149d4bb47251966975",
       "version_major": 2,
       "version_minor": 0
      },
      "text/plain": [
       "Downloading readme:   0%|          | 0.00/10.4k [00:00<?, ?B/s]"
      ]
     },
     "metadata": {},
     "output_type": "display_data"
    },
    {
     "data": {
      "application/vnd.jupyter.widget-view+json": {
       "model_id": "e51ec3371fc54c0ebce94117be80bd40",
       "version_major": 2,
       "version_minor": 0
      },
      "text/plain": [
       "Downloading data:   0%|          | 0.00/187M [00:00<?, ?B/s]"
      ]
     },
     "metadata": {},
     "output_type": "display_data"
    },
    {
     "data": {
      "application/vnd.jupyter.widget-view+json": {
       "model_id": "a3f15d2a14a34e7fa35d4d98b112264a",
       "version_major": 2,
       "version_minor": 0
      },
      "text/plain": [
       "Downloading data:   0%|          | 0.00/5.11M [00:00<?, ?B/s]"
      ]
     },
     "metadata": {},
     "output_type": "display_data"
    },
    {
     "data": {
      "application/vnd.jupyter.widget-view+json": {
       "model_id": "469da282f9f8414ca395fc83d4461171",
       "version_major": 2,
       "version_minor": 0
      },
      "text/plain": [
       "Generating train split:   0%|          | 0/32747 [00:00<?, ? examples/s]"
      ]
     },
     "metadata": {},
     "output_type": "display_data"
    },
    {
     "data": {
      "application/vnd.jupyter.widget-view+json": {
       "model_id": "88d6db98d5304be59e9e6710ff041fcf",
       "version_major": 2,
       "version_minor": 0
      },
      "text/plain": [
       "Generating test split:   0%|          | 0/10557 [00:00<?, ? examples/s]"
      ]
     },
     "metadata": {},
     "output_type": "display_data"
    },
    {
     "data": {
      "application/vnd.jupyter.widget-view+json": {
       "model_id": "84b8ff271c324d85800a87f6adcff31c",
       "version_major": 2,
       "version_minor": 0
      },
      "text/plain": [
       "Generating validation split:   0%|          | 0/3461 [00:00<?, ? examples/s]"
      ]
     },
     "metadata": {},
     "output_type": "display_data"
    },
    {
     "data": {
      "application/vnd.jupyter.widget-view+json": {
       "model_id": "2f47f645523547449cb045b68e8f4efa",
       "version_major": 2,
       "version_minor": 0
      },
      "text/plain": [
       "Map:   0%|          | 0/32747 [00:00<?, ? examples/s]"
      ]
     },
     "metadata": {},
     "output_type": "display_data"
    },
    {
     "data": {
      "application/vnd.jupyter.widget-view+json": {
       "model_id": "3d85e2b15f1c44a99c5bcb3f3394fbf9",
       "version_major": 2,
       "version_minor": 0
      },
      "text/plain": [
       "Map:   0%|          | 0/3461 [00:00<?, ? examples/s]"
      ]
     },
     "metadata": {},
     "output_type": "display_data"
    },
    {
     "data": {
      "application/vnd.jupyter.widget-view+json": {
       "model_id": "f6085a31fdda40e5acd544e78dd1e8b7",
       "version_major": 2,
       "version_minor": 0
      },
      "text/plain": [
       "Map:   0%|          | 0/10557 [00:00<?, ? examples/s]"
      ]
     },
     "metadata": {},
     "output_type": "display_data"
    },
    {
     "data": {
      "application/vnd.jupyter.widget-view+json": {
       "model_id": "a7e64ac90e8645e69c6484da2b40b04f",
       "version_major": 2,
       "version_minor": 0
      },
      "text/plain": [
       "Downloading readme:   0%|          | 0.00/8.18k [00:00<?, ?B/s]"
      ]
     },
     "metadata": {},
     "output_type": "display_data"
    },
    {
     "data": {
      "application/vnd.jupyter.widget-view+json": {
       "model_id": "3ce78fa283614ac388322b94b3de291f",
       "version_major": 2,
       "version_minor": 0
      },
      "text/plain": [
       "Downloading data:   0%|          | 0.00/16.4M [00:00<?, ?B/s]"
      ]
     },
     "metadata": {},
     "output_type": "display_data"
    },
    {
     "data": {
      "application/vnd.jupyter.widget-view+json": {
       "model_id": "bfdef58f61c34884a99dc70d06eb27fb",
       "version_major": 2,
       "version_minor": 0
      },
      "text/plain": [
       "Downloading data:   0%|          | 0.00/1.35M [00:00<?, ?B/s]"
      ]
     },
     "metadata": {},
     "output_type": "display_data"
    },
    {
     "data": {
      "application/vnd.jupyter.widget-view+json": {
       "model_id": "c261abf9b5ee42888403f51f0c9aa043",
       "version_major": 2,
       "version_minor": 0
      },
      "text/plain": [
       "Generating train split:   0%|          | 0/130319 [00:00<?, ? examples/s]"
      ]
     },
     "metadata": {},
     "output_type": "display_data"
    },
    {
     "data": {
      "application/vnd.jupyter.widget-view+json": {
       "model_id": "3c74882fb3e641c296b3c278747cdba5",
       "version_major": 2,
       "version_minor": 0
      },
      "text/plain": [
       "Generating validation split:   0%|          | 0/11873 [00:00<?, ? examples/s]"
      ]
     },
     "metadata": {},
     "output_type": "display_data"
    },
    {
     "data": {
      "application/vnd.jupyter.widget-view+json": {
       "model_id": "b1be347be68546b392fa2ad0a81b52af",
       "version_major": 2,
       "version_minor": 0
      },
      "text/plain": [
       "Map:   0%|          | 0/130319 [00:00<?, ? examples/s]"
      ]
     },
     "metadata": {},
     "output_type": "display_data"
    },
    {
     "data": {
      "application/vnd.jupyter.widget-view+json": {
       "model_id": "38e9e72b99fe48548851db62add923a2",
       "version_major": 2,
       "version_minor": 0
      },
      "text/plain": [
       "Downloading readme:   0%|          | 0.00/8.18k [00:00<?, ?B/s]"
      ]
     },
     "metadata": {},
     "output_type": "display_data"
    },
    {
     "data": {
      "application/vnd.jupyter.widget-view+json": {
       "model_id": "b8d6f17749294bd9b4c85b31e0fe575a",
       "version_major": 2,
       "version_minor": 0
      },
      "text/plain": [
       "Downloading data:   0%|          | 0.00/16.4M [00:00<?, ?B/s]"
      ]
     },
     "metadata": {},
     "output_type": "display_data"
    },
    {
     "data": {
      "application/vnd.jupyter.widget-view+json": {
       "model_id": "58e21937096a4ee4a864156d7972e48f",
       "version_major": 2,
       "version_minor": 0
      },
      "text/plain": [
       "Downloading data:   0%|          | 0.00/1.35M [00:00<?, ?B/s]"
      ]
     },
     "metadata": {},
     "output_type": "display_data"
    },
    {
     "data": {
      "application/vnd.jupyter.widget-view+json": {
       "model_id": "f9d4b17a7ea44d949c24a240b7e6c639",
       "version_major": 2,
       "version_minor": 0
      },
      "text/plain": [
       "Generating train split:   0%|          | 0/130319 [00:00<?, ? examples/s]"
      ]
     },
     "metadata": {},
     "output_type": "display_data"
    },
    {
     "data": {
      "application/vnd.jupyter.widget-view+json": {
       "model_id": "55771684f57b491e891ef1b71dc3d1d9",
       "version_major": 2,
       "version_minor": 0
      },
      "text/plain": [
       "Generating validation split:   0%|          | 0/11873 [00:00<?, ? examples/s]"
      ]
     },
     "metadata": {},
     "output_type": "display_data"
    },
    {
     "data": {
      "application/vnd.jupyter.widget-view+json": {
       "model_id": "3ad54067017547d4b34c18abf7fca7f6",
       "version_major": 2,
       "version_minor": 0
      },
      "text/plain": [
       "Map:   0%|          | 0/11873 [00:00<?, ? examples/s]"
      ]
     },
     "metadata": {},
     "output_type": "display_data"
    }
   ],
   "source": [
    "rc_train_dataset, rc_dev_dataset, rc_test_dataset = read_race_dataset()\n",
    "nq_train_dataset, nq_dev_dataset, nq_test_dataset = read_narrative_dataset()\n",
    "sq_train_dataset, sq_dev_dataset, sq_test_dataset = read_squad_dataset()"
   ]
  },
  {
   "cell_type": "code",
   "execution_count": 27,
   "id": "75b2adb5-f125-48fb-afd1-2109477ceb56",
   "metadata": {},
   "outputs": [
    {
     "name": "stdout",
     "output_type": "stream",
     "text": [
      "11873\n",
      "11873\n",
      "11873\n",
      "4934\n",
      "4934\n",
      "4934\n",
      "10557\n",
      "10557\n",
      "10557\n"
     ]
    }
   ],
   "source": [
    "seeds = [42, 100, 13, 87, 21]\n",
    "few_shot_split_sizes = [16, 128, 1024]\n",
    "dataset_names = [\"squad\", \"race\", \"narrativeqa\"]\n",
    "\n",
    "\n",
    "def write_eval(eval_dataset: Any, dataset_name: str) -> None:\n",
    "    eval_df = pd.DataFrame([row for row in eval_dataset])\n",
    "    for few_shot_split_size in few_shot_split_sizes:\n",
    "        print(len(eval_df))\n",
    "        Path(f\"./{few_shot_split_size}-shot-datasets/{dataset_name}\").mkdir(parents=True, exist_ok=True)\n",
    "        eval_df.to_csv(\n",
    "            f\"./{few_shot_split_size}-shot-datasets/{dataset_name}/test.tsv\",\n",
    "            header=True,\n",
    "            index=False,\n",
    "            sep=\"\\t\",\n",
    "        )\n",
    "\n",
    "\n",
    "write_eval(sq_test_dataset, \"squad\")\n",
    "write_eval(rc_test_dataset, \"race\")\n",
    "write_eval(nq_test_dataset, \"narrativeqa\")\n",
    "\n",
    "\n",
    "def write_train_dev(train_dataset: Any, dataset_name: str) -> None:\n",
    "    train_rows = [row for row in train_dataset]\n",
    "    for seed in seeds:\n",
    "        random.seed(seed)\n",
    "        random.shuffle(train_rows)\n",
    "        for few_shot_split_size in few_shot_split_sizes:\n",
    "            fewshot_train_rows = train_rows[0:few_shot_split_size]\n",
    "            fewshot_val_rows = train_rows[few_shot_split_size : few_shot_split_size * 2]\n",
    "\n",
    "            train_df = pd.DataFrame(fewshot_train_rows)\n",
    "            csv_file = f\"./{few_shot_split_size}-shot-datasets\"\n",
    "            Path(f\"{csv_file}/{dataset_name}\").mkdir(parents=True, exist_ok=True)\n",
    "            csv_file = f\"{csv_file}/{dataset_name}/{few_shot_split_size}-{seed}-train.tsv\"\n",
    "            train_df.to_csv(\n",
    "                csv_file,\n",
    "                header=True,\n",
    "                index=False,\n",
    "                sep=\"\\t\",\n",
    "            )\n",
    "            val_df = pd.DataFrame(fewshot_val_rows)\n",
    "            csv_file = f\"./{few_shot_split_size}-shot-datasets\"\n",
    "            Path(f\"{csv_file}/{dataset_name}\").mkdir(parents=True, exist_ok=True)\n",
    "            csv_file = f\"{csv_file}/{dataset_name}/{few_shot_split_size}-{seed}-dev.tsv\"\n",
    "            val_df.to_csv(\n",
    "                csv_file,\n",
    "                header=True,\n",
    "                index=False,\n",
    "                sep=\"\\t\",\n",
    "            )\n",
    "\n",
    "\n",
    "write_train_dev(sq_train_dataset, \"squad\")\n",
    "write_train_dev(rc_train_dataset, \"race\")\n",
    "write_train_dev(nq_train_dataset, \"narrativeqa\")"
   ]
  },
  {
   "cell_type": "code",
   "execution_count": 28,
   "id": "b93e6644-f7b5-44a0-8dc6-6a95ae86fd0a",
   "metadata": {},
   "outputs": [
    {
     "name": "stdout",
     "output_type": "stream",
     "text": [
      "Dataset({\n",
      "    features: ['article', 'answer'],\n",
      "    num_rows: 4934\n",
      "})\n"
     ]
    }
   ],
   "source": [
    "print(rc_test_dataset)"
   ]
  },
  {
   "cell_type": "code",
   "execution_count": 29,
   "id": "2c5c984a-63a2-4984-b24b-cea29a708754",
   "metadata": {},
   "outputs": [
    {
     "name": "stdout",
     "output_type": "stream",
     "text": [
      "Dataset({\n",
      "    features: ['article', 'answer'],\n",
      "    num_rows: 10557\n",
      "})\n"
     ]
    }
   ],
   "source": [
    "print(nq_test_dataset)"
   ]
  },
  {
   "cell_type": "code",
   "execution_count": 30,
   "id": "8c626110-7680-42fe-8284-74aa5055c10c",
   "metadata": {},
   "outputs": [
    {
     "name": "stdout",
     "output_type": "stream",
     "text": [
      "Dataset({\n",
      "    features: ['article', 'answer'],\n",
      "    num_rows: 11873\n",
      "})\n"
     ]
    }
   ],
   "source": [
    "print(sq_test_dataset)"
   ]
  }
 ],
 "metadata": {
  "kernelspec": {
   "display_name": "Python 3 (ipykernel)",
   "language": "python",
   "name": "python3"
  },
  "language_info": {
   "codemirror_mode": {
    "name": "ipython",
    "version": 3
   },
   "file_extension": ".py",
   "mimetype": "text/x-python",
   "name": "python",
   "nbconvert_exporter": "python",
   "pygments_lexer": "ipython3",
   "version": "3.11.6"
  }
 },
 "nbformat": 4,
 "nbformat_minor": 5
}
