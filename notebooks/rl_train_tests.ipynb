{
 "cells": [
  {
   "cell_type": "code",
   "execution_count": null,
   "id": "f51d0557-a7e9-4815-9764-35360d66350f",
   "metadata": {},
   "outputs": [
    {
     "name": "stdout",
     "output_type": "stream",
     "text": [
      "W0923 14:41:27.388000 139723605387072 torch/distributed/run.py:749] master_addr is only used for static rdzv_backend and when rdzv_endpoint is not specified.\n",
      "2024-09-23 14:41:34.927087: E tensorflow/compiler/xla/stream_executor/cuda/cuda_dnn.cc:9342] Unable to register cuDNN factory: Attempting to register factory for plugin cuDNN when one has already been registered\n",
      "2024-09-23 14:41:34.927163: E tensorflow/compiler/xla/stream_executor/cuda/cuda_fft.cc:609] Unable to register cuFFT factory: Attempting to register factory for plugin cuFFT when one has already been registered\n",
      "2024-09-23 14:41:34.932538: E tensorflow/compiler/xla/stream_executor/cuda/cuda_blas.cc:1518] Unable to register cuBLAS factory: Attempting to register factory for plugin cuBLAS when one has already been registered\n",
      "2024-09-23 14:41:35.026413: I tensorflow/core/platform/cpu_feature_guard.cc:182] This TensorFlow binary is optimized to use available CPU instructions in performance-critical operations.\n",
      "To enable the following instructions: AVX2 AVX512F FMA, in other operations, rebuild TensorFlow with the appropriate compiler flags.\n",
      "2024-09-23 14:41:36.312770: W tensorflow/compiler/tf2tensorrt/utils/py_utils.cc:38] TF-TRT Warning: Could not find TensorRT\n",
      "2024-09-23 14:41:38.441726: W tensorflow/core/common_runtime/gpu/gpu_device.cc:2211] Cannot dlopen some GPU libraries. Please make sure the missing libraries mentioned above are installed properly if you would like to use GPU. Follow the guide at https://www.tensorflow.org/install/gpu for how to download and setup the required libraries for your platform.\n",
      "Skipping registering GPU devices...\n",
      "I0923 14:41:38.742049 140652733609792 train_utils.py:468] --> Running with torch dist debug set to detail\n",
      "\u001b[34m\u001b[1mwandb\u001b[0m: Tracking run with wandb version 0.17.5\n",
      "\u001b[34m\u001b[1mwandb\u001b[0m: W&B syncing is set to \u001b[1m`offline`\u001b[0m in this directory.  \n",
      "\u001b[34m\u001b[1mwandb\u001b[0m: Run \u001b[1m`wandb online`\u001b[0m or set \u001b[1mWANDB_MODE=online\u001b[0m to enable cloud syncing.\n",
      "Loading checkpoint shards: 100%|██████████████████| 4/4 [00:21<00:00,  5.37s/it]\n",
      "I0923 14:42:08.635179 140652733609792 model_utils.py:440] --> Model /model-weights/Meta-Llama-3.1-8B-Instruct\n",
      "I0923 14:42:08.636963 140652733609792 model_utils.py:442] --> /model-weights/Meta-Llama-3.1-8B-Instruct has 8030.261248 Million params.\n",
      "trainable params: 27,262,976 || all params: 8,057,524,224 || trainable%: 0.3384\n"
     ]
    }
   ],
   "source": [
    "!TOKENIZERS_PARALLELISM=false WANDB_MODE=offline torchrun \\\n",
    "--nproc-per-node=1 \\\n",
    "--nnodes=1 \\\n",
    "--rdzv-backend c10d ../src/squadv2_finetuning.py --flagfile ../configs/llama3.1_squadv2_13_lora_flags.txt"
   ]
  }
 ],
 "metadata": {
  "kernelspec": {
   "display_name": "Python 3 (ipykernel)",
   "language": "python",
   "name": "python3"
  },
  "language_info": {
   "codemirror_mode": {
    "name": "ipython",
    "version": 3
   },
   "file_extension": ".py",
   "mimetype": "text/x-python",
   "name": "python",
   "nbconvert_exporter": "python",
   "pygments_lexer": "ipython3",
   "version": "3.11.8"
  }
 },
 "nbformat": 4,
 "nbformat_minor": 5
}
