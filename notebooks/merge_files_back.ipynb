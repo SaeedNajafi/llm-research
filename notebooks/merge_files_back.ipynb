{
 "cells": [
  {
   "cell_type": "code",
   "execution_count": 1,
   "id": "9ce60b7f-ec22-4ef9-9659-38fb3692aa26",
   "metadata": {},
   "outputs": [],
   "source": [
    "import pandas as pd\n",
    "\n",
    "directory = \"/scratch/ssd004/scratch/snajafi/gpt4-omini-predictions/\""
   ]
  },
  {
   "cell_type": "code",
   "execution_count": 2,
   "id": "396f453d-dfd2-4183-9cc4-790a6814f57f",
   "metadata": {},
   "outputs": [],
   "source": [
    "csv_files = [\n",
    "    \"original_validation_part1.gtp4-omini.tsv\",\n",
    "    \"original_validation_part2.gtp4-omini.tsv\",\n",
    "    \"original_validation_part3.gtp4-omini.tsv\",\n",
    "]"
   ]
  },
  {
   "cell_type": "code",
   "execution_count": 3,
   "id": "0a68bab7-8258-475f-b03a-1ae4225fe91a",
   "metadata": {},
   "outputs": [],
   "source": [
    "# Create an empty list to store the dataframes\n",
    "dataframes = []\n",
    "\n",
    "# Read each CSV file and append it to the list\n",
    "for file in csv_files:\n",
    "    df = pd.read_csv(directory + file)\n",
    "    dataframes.append(df)"
   ]
  },
  {
   "cell_type": "code",
   "execution_count": 4,
   "id": "fc8677fc-ff8b-42ee-ad7d-38f989a6c793",
   "metadata": {},
   "outputs": [],
   "source": [
    "# Concatenate the dataframes into a single dataframe\n",
    "unified_df = pd.concat(dataframes, ignore_index=True).drop_duplicates()\n",
    "final_df = unified_df.sort_values(by=[\"row_id\"], ascending=True)"
   ]
  },
  {
   "cell_type": "code",
   "execution_count": 5,
   "id": "438e6205-04d6-4514-b12b-fbc0843aaff2",
   "metadata": {},
   "outputs": [],
   "source": [
    "# Write the unified dataframe to a new CSV file\n",
    "output_file = \"squadv2_original_validation_normal_no_icl.gtp4-omini.tsv\"\n",
    "final_df.to_csv(directory + output_file, index=False)"
   ]
  },
  {
   "cell_type": "code",
   "execution_count": null,
   "id": "1ef39e2a-b64e-4931-a749-cbdaf22ec131",
   "metadata": {},
   "outputs": [],
   "source": []
  }
 ],
 "metadata": {
  "kernelspec": {
   "display_name": "Python 3 (ipykernel)",
   "language": "python",
   "name": "python3"
  },
  "language_info": {
   "codemirror_mode": {
    "name": "ipython",
    "version": 3
   },
   "file_extension": ".py",
   "mimetype": "text/x-python",
   "name": "python",
   "nbconvert_exporter": "python",
   "pygments_lexer": "ipython3",
   "version": "3.11.0"
  }
 },
 "nbformat": 4,
 "nbformat_minor": 5
}
