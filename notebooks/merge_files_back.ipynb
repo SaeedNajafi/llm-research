{
 "cells": [
  {
   "cell_type": "code",
   "execution_count": 6,
   "id": "9ce60b7f-ec22-4ef9-9659-38fb3692aa26",
   "metadata": {},
   "outputs": [],
   "source": [
    "import pandas as pd\n",
    "\n",
    "directory = \"/scratch/ssd004/scratch/snajafi/gemma2-9b-predictions/\""
   ]
  },
  {
   "cell_type": "code",
   "execution_count": 7,
   "id": "396f453d-dfd2-4183-9cc4-790a6814f57f",
   "metadata": {},
   "outputs": [],
   "source": [
    "csv_files = [\n",
    "    \"squadv2_predictions_original_validation.explanation_no_icl_test_rank_0.csv\",\n",
    "    \"squadv2_predictions_original_validation.explanation_no_icl_test_rank_1.csv\",\n",
    "    \"squadv2_predictions_original_validation.explanation_no_icl_test_rank_2.csv\",\n",
    "    \"squadv2_predictions_original_validation.explanation_no_icl_test_rank_3.csv\",\n",
    "]"
   ]
  },
  {
   "cell_type": "code",
   "execution_count": 8,
   "id": "0a68bab7-8258-475f-b03a-1ae4225fe91a",
   "metadata": {},
   "outputs": [],
   "source": [
    "# Create an empty list to store the dataframes\n",
    "dataframes = []\n",
    "\n",
    "# Read each CSV file and append it to the list\n",
    "for file in csv_files:\n",
    "    df = pd.read_csv(directory + file)\n",
    "    dataframes.append(df)"
   ]
  },
  {
   "cell_type": "code",
   "execution_count": 9,
   "id": "fc8677fc-ff8b-42ee-ad7d-38f989a6c793",
   "metadata": {},
   "outputs": [],
   "source": [
    "# Concatenate the dataframes into a single dataframe\n",
    "unified_df = pd.concat(dataframes, ignore_index=True)\n",
    "final_df = unified_df"
   ]
  },
  {
   "cell_type": "code",
   "execution_count": 10,
   "id": "438e6205-04d6-4514-b12b-fbc0843aaff2",
   "metadata": {},
   "outputs": [],
   "source": [
    "# Write the unified dataframe to a new CSV file\n",
    "output_file = \"squadv2_original_validation_explanation_no_icl.gemma2-9b.tsv\"\n",
    "final_df.to_csv(directory + output_file, index=False)"
   ]
  },
  {
   "cell_type": "code",
   "execution_count": null,
   "id": "f33a4290-ce9d-4d57-b7ea-981cb62010d7",
   "metadata": {},
   "outputs": [],
   "source": []
  }
 ],
 "metadata": {
  "kernelspec": {
   "display_name": "Python 3 (ipykernel)",
   "language": "python",
   "name": "python3"
  },
  "language_info": {
   "codemirror_mode": {
    "name": "ipython",
    "version": 3
   },
   "file_extension": ".py",
   "mimetype": "text/x-python",
   "name": "python",
   "nbconvert_exporter": "python",
   "pygments_lexer": "ipython3",
   "version": "3.11.8"
  }
 },
 "nbformat": 4,
 "nbformat_minor": 5
}
