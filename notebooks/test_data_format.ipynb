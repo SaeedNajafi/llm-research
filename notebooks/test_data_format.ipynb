{
 "cells": [
  {
   "cell_type": "code",
   "execution_count": 1,
   "id": "a01c9606-c7a0-4a76-a019-a2fb48fa417d",
   "metadata": {},
   "outputs": [
    {
     "name": "stderr",
     "output_type": "stream",
     "text": [
      "/h/snajafi/miniconda3/envs/llm-env/lib/python3.11/site-packages/tqdm/auto.py:21: TqdmWarning: IProgress not found. Please update jupyter and ipywidgets. See https://ipywidgets.readthedocs.io/en/stable/user_install.html\n",
      "  from .autonotebook import tqdm as notebook_tqdm\n"
     ]
    }
   ],
   "source": [
    "from src.utils.data_utility import process_squadv2_dataset"
   ]
  },
  {
   "cell_type": "code",
   "execution_count": 2,
   "id": "5063710a-3038-44af-ba32-27b2ded0fcde",
   "metadata": {},
   "outputs": [],
   "source": [
    "instruction_template = \"<|begin_of_text|><|start_header_id|>system<|end_header_id|>\\n\\n{instruction} <|eot_id|>\"\n",
    "input_template = \"<|start_header_id|>user<|end_header_id|>\\n\\n{input} <|eot_id|>\"\n",
    "output_template = \"<|start_header_id|>assistant<|end_header_id|>\\n\\n{output} <|eot_id|>\""
   ]
  },
  {
   "cell_type": "code",
   "execution_count": 12,
   "id": "10ecf04e-9c19-437c-a232-20b3e298b6f5",
   "metadata": {},
   "outputs": [],
   "source": [
    "instruction_template = \"<bos><start_of_turn>user\\n{instruction}<end_of_turn>\"\n",
    "input_template = \"\\n<start_of_turn>user\\n{input}<end_of_turn>\\n<start_of_turn>model\"\n",
    "output_template = \"\\n{output} <end_of_turn>\""
   ]
  },
  {
   "cell_type": "code",
   "execution_count": 13,
   "id": "8c3a61c8-ac7d-4663-9217-1c2e92c412ec",
   "metadata": {},
   "outputs": [],
   "source": [
    "input_file = \"../data/0.1-shot-datasets/squad/original_validation_part1.tsv\""
   ]
  },
  {
   "cell_type": "code",
   "execution_count": 17,
   "id": "59266088-74b7-41df-9087-e675b3e92543",
   "metadata": {},
   "outputs": [],
   "source": [
    "experiment_type = \"explanation_with_icl\""
   ]
  },
  {
   "cell_type": "code",
   "execution_count": 18,
   "id": "eac05b0f-147e-4269-9c78-b1773ee565cf",
   "metadata": {},
   "outputs": [],
   "source": [
    "squad_inputs, squad_ids, _, gold_outputs = process_squadv2_dataset(\n",
    "    input_file, experiment_type, instruction_template, input_template, output_template\n",
    ")"
   ]
  },
  {
   "cell_type": "code",
   "execution_count": 19,
   "id": "e10816d4-2f98-49e9-99ed-e6fe2e49640e",
   "metadata": {},
   "outputs": [
    {
     "name": "stdout",
     "output_type": "stream",
     "text": [
      "<bos><start_of_turn>user\n",
      "This task is about writing a correct answer for the reading comprehension task. Based on the information provided in a given passage, you should identify the shortest continuous text span from the passage that serves as an answer to the given question. Avoid answers that are incorrect or have incomplete justification. Describe your explanations and thought process before generating the final answer. If you cannot find the answer from the passage for the given question, then generate the <no_answer> tag as the final answer.<end_of_turn>\n",
      "<start_of_turn>user\n",
      "Passage: Beyoncé Giselle Knowles-Carter (/biːˈjɒnseɪ/ bee-YON-say) (born September 4, 1981) is an American singer, songwriter, record producer and actress. Born and raised in Houston, Texas, she performed in various singing and dancing competitions as a child, and rose to fame in the late 1990s as lead singer of R&B girl-group Destiny's Child. Managed by her father, Mathew Knowles, the group became one of the world's best-selling girl groups of all time. Their hiatus saw the release of Beyoncé's debut album, Dangerously in Love (2003), which established her as a solo artist worldwide, earned five Grammy Awards and featured the Billboard Hot 100 number-one singles \"Crazy in Love\" and \"Baby Boy\".\n",
      "Question: To whom did the Virgin Mary allegedly appear in 1858 in Lourdes France?\n",
      "Explanations and Thought Process and Final Answer: Let's think step by step.<end_of_turn>\n",
      "<start_of_turn>model\n",
      "Explanations and Thought Process:\n",
      "Identify the question's focus: The question asks specifically about the individual to whom the Virgin Mary appeared in Lourdes. Find the relevant section: The passage mentions a replica of the grotto at Lourdes, France, where the Virgin Mary is said to have appeared. It also mentions that this appearance was to Saint Bernadette Soubirous in 1858. Reasoning: Therefore, we know the Virgin Mary appeared at Lourdes to Saint Bernadette Soubirous.\n",
      "Final Answer: Saint Bernadette Soubirous <end_of_turn>\n",
      "<start_of_turn>user\n",
      "Passage: The ISO 216 system used in most other countries is based on the surface area of a sheet of paper, not on a sheet's width and length. It was first adopted in Germany in 1922 and generally spread as nations adopted the metric system. The largest standard size paper is A0 (A zero), measuring one square meter (approx. 1189 × 841 mm). Two sheets of A1, placed upright side by side fit exactly into one sheet of A0 laid on its side. Similarly, two sheets of A2 fit into one sheet of A1 and so forth. Common sizes used in the office and the home are A4 and A3 (A3 is the size of two A4 sheets).\n",
      "Question: What Uralic language branch does not contain Estonian?\n",
      "Explanations and Thought Process and Final Answer: Let's think step by step.<end_of_turn>\n",
      "<start_of_turn>model\n",
      "Explanations and Thought Process:\n",
      "Identify the question's focus: The question asks for a Uralic language branch that does NOT contain Estonian. Find the relevant section: The passage states that Estonian belongs to the Finnic branch of the Uralic languages. Reasoning: Therefore, any Uralic language branch that is NOT the Finnic branch would be a valid answer. However, the passage does not mention any other Uralic language branches besides the Finnic branch. We only know that Estonian is distantly related to Hungarian and the Sami languages, but we don't know if these are part of other Uralic branches. Thus, we lack the information to determine which Uralic language branches do not contain Estonian.\n",
      "Final Answer: <no_answer> <end_of_turn>\n",
      "<start_of_turn>user\n",
      "Passage: During the rule of the succeeding Hanoverian dynasty, power was gradually exercised more by parliament and the government. The first Hanoverian monarch, George I, relied on his ministers to a greater extent than did previous monarchs. Later Hanoverian monarchs attempted to restore royal control over legislation: George III and George IV both openly opposed Catholic Emancipation and asserted that to grant assent to a Catholic emancipation bill would violate the Coronation Oath, which required the sovereign to preserve and protect the established Church of England from Papal domination and would grant rights to individuals who were in league with a foreign power which did not recognise their legitimacy. However, George IV reluctantly granted his assent upon the advice of his ministers. Thus, as the concept of ministerial responsibility has evolved, the power to withhold royal assent has fallen into disuse, both in the United Kingdom and in the other Commonwealth realms.\n",
      "Question: When did Beyonce start becoming popular?\n",
      "Explanations and Thought Process and Final Answer: Let's think step by step.<end_of_turn>\n",
      "<start_of_turn>model\n",
      "Explanations and Thought Process:\n",
      "Identify the question's focus: The question asks about Beyonce's rise to fame. Find the relevant section: The passage mentions her early career, saying she \"performed in various singingand dancing competitions as a child\". The passage then states \"she rose to fame in the late 1990s as lead singer of R&B girl-group Destiny's Child\". Reasoning: Therefore, the statement directly answers the question, stating that her rise to fame began in the late 1990s.\n",
      "Final Answer: in the late 1990s <end_of_turn>\n",
      "<start_of_turn>user\n",
      "Passage: Chopin's successes as a composer and performer opened the door to western Europe for him, and on 2 November 1830, he set out, in the words of Zdzisław Jachimecki, \"into the wide world, with no very clearly defined aim, forever.\" With Woyciechowski, he headed for Austria, intending to go on to Italy. Later that month, in Warsaw, the November 1830 Uprising broke out, and Woyciechowski returned to Poland to enlist. Chopin, now alone in Vienna, was nostalgic for his homeland, and wrote to a friend, \"I curse the moment of my departure.\" When in September 1831 he learned, while travelling from Vienna to Paris, that the uprising had been crushed, he expressed his anguish in the pages of his private journal: \"Oh God! ... You are there, and yet you do not take vengeance!\" Jachimecki ascribes to these events the composer's maturing \"into an inspired national bard who intuited the past, present and future of his native Poland.\"\n",
      "Question: When was the ISO 1189 system first adopted in Germany?\n",
      "Explanations and Thought Process and Final Answer: Let's think step by step.<end_of_turn>\n",
      "<start_of_turn>model\n",
      "Explanations and Thought Process:\n",
      "Identify the question's focus: The question asks about the adoption of the ISO 1189 system in Germany. Find the relevant section: The passage mentions the ISO 216 system, not ISO 1189. The passage states that the ISO 216 system was first adopted in Germany in 1922. Reasoning: Therefore, the question asks about a system not discussed in the passage, making it unanswerable.\n",
      "Final Answer: <no_answer> <end_of_turn>\n",
      "<start_of_turn>user\n",
      "Passage: The Norman dynasty had a major political, cultural and military impact on medieval Europe and even the Near East. The Normans were famed for their martial spirit and eventually for their Christian piety, becoming exponents of the Catholic orthodoxy into which they assimilated. They adopted the Gallo-Romance language of the Frankish land they settled, their dialect becoming known as Norman, Normaund or Norman French, an important literary language. The Duchy of Normandy, which they formed by treaty with the French crown, was a great fief of medieval France, and under Richard I of Normandy was forged into a cohesive and formidable principality in feudal tenure. The Normans are noted both for their culture, such as their unique Romanesque architecture and musical traditions, and for their significant military accomplishments and innovations. Norman adventurers founded the Kingdom of Sicily under Roger II after conquering southern Italy on the Saracens and Byzantines, and an expedition on behalf of their duke, William the Conqueror, led to the Norman conquest of England at the Battle of Hastings in 1066. Norman cultural and military influence spread from these new European centres to the Crusader states of the Near East, where their prince Bohemond I founded the Principality of Antioch in the Levant, to Scotland and Wales in Great Britain, to Ireland, and to the coasts of north Africa and the Canary Islands.\n",
      "Question: Who ruled the duchy of Normandy\n",
      "Explanations and Thought Process and Final Answer: Let's think step by step.<end_of_turn>\n",
      "<start_of_turn>model\n",
      "1737\n"
     ]
    }
   ],
   "source": [
    "print(squad_inputs[10])\n",
    "print(max([len(each_input.split()) for each_input in squad_inputs]))"
   ]
  },
  {
   "cell_type": "code",
   "execution_count": null,
   "id": "fa7286e4-a56f-4baf-b895-1b642ca041b6",
   "metadata": {},
   "outputs": [],
   "source": []
  }
 ],
 "metadata": {
  "kernelspec": {
   "display_name": "Python 3 (ipykernel)",
   "language": "python",
   "name": "python3"
  },
  "language_info": {
   "codemirror_mode": {
    "name": "ipython",
    "version": 3
   },
   "file_extension": ".py",
   "mimetype": "text/x-python",
   "name": "python",
   "nbconvert_exporter": "python",
   "pygments_lexer": "ipython3",
   "version": "3.11.8"
  }
 },
 "nbformat": 4,
 "nbformat_minor": 5
}
