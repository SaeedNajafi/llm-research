{
 "cells": [
  {
   "cell_type": "code",
   "execution_count": 48,
   "id": "0d618f29-5738-43e5-836f-92a4d478c2f0",
   "metadata": {},
   "outputs": [],
   "source": [
    "import collections\n",
    "import json\n",
    "import os\n",
    "import re\n",
    "import string\n",
    "import sys\n",
    "\n",
    "import numpy as np"
   ]
  },
  {
   "cell_type": "code",
   "execution_count": 49,
   "id": "aceabe88-6b23-4cee-b841-cb8c81fd19dd",
   "metadata": {},
   "outputs": [],
   "source": [
    "def normalize_answer(s):\n",
    "    \"\"\"Lower text and remove punctuation, articles and extra whitespace.\"\"\"\n",
    "\n",
    "    def remove_articles(text):\n",
    "        regex = re.compile(r\"\\b(a|an|the)\\b\", re.UNICODE)\n",
    "        return re.sub(regex, \" \", text)\n",
    "\n",
    "    def white_space_fix(text):\n",
    "        return \" \".join(text.split())\n",
    "\n",
    "    def remove_punc(text):\n",
    "        exclude = set(string.punctuation)\n",
    "        return \"\".join(ch for ch in text if ch not in exclude)\n",
    "\n",
    "    def lower(text):\n",
    "        return text.lower()\n",
    "\n",
    "    return white_space_fix(remove_articles(remove_punc(lower(s))))\n",
    "\n",
    "\n",
    "def get_tokens(s):\n",
    "    if not s:\n",
    "        return []\n",
    "    return normalize_answer(s).split()\n",
    "\n",
    "\n",
    "def compute_exact(a_gold, a_pred):\n",
    "    return int(normalize_answer(a_gold) == normalize_answer(a_pred))\n",
    "\n",
    "\n",
    "def compute_f1(a_gold, a_pred):\n",
    "    gold_toks = get_tokens(a_gold)\n",
    "    pred_toks = get_tokens(a_pred)\n",
    "    common = collections.Counter(gold_toks) & collections.Counter(pred_toks)\n",
    "    num_same = sum(common.values())\n",
    "    if len(gold_toks) == 0 or len(pred_toks) == 0:\n",
    "        # If either is no-answer, then F1 is 1 if they agree, 0 otherwise\n",
    "        return int(gold_toks == pred_toks)\n",
    "    if num_same == 0:\n",
    "        return 0\n",
    "    precision = 1.0 * num_same / len(pred_toks)\n",
    "    recall = 1.0 * num_same / len(gold_toks)\n",
    "    f1 = (2 * precision * recall) / (precision + recall)\n",
    "    return f1"
   ]
  },
  {
   "cell_type": "code",
   "execution_count": 50,
   "id": "826236fc-a8db-46d5-9798-31b23bde8981",
   "metadata": {},
   "outputs": [],
   "source": [
    "def get_raw_scores(preds):\n",
    "    exact_scores = {}\n",
    "    f1_scores = {}\n",
    "    for row in preds:\n",
    "        gold_answers = [a for a in row[\"answers\"][\"text\"] if normalize_answer(a)]\n",
    "        if not gold_answers:\n",
    "            gold_answers = [\"\"]\n",
    "        a_pred = row[\"gemini-1.0-pro-latest_answer\"]\n",
    "        if a_pred == \"<no_answer>\":\n",
    "            a_pred = \"\"\n",
    "        if a_pred == \"<API_failed>\":\n",
    "            continue\n",
    "        # Take max over all gold answers\n",
    "        exact_scores[row[\"id\"]] = max(compute_exact(a, a_pred) for a in gold_answers)\n",
    "        f1_scores[row[\"id\"]] = max(compute_f1(a, a_pred) for a in gold_answers)\n",
    "    return exact_scores, f1_scores"
   ]
  },
  {
   "cell_type": "code",
   "execution_count": 51,
   "id": "ec6e0120",
   "metadata": {},
   "outputs": [],
   "source": [
    "def make_eval_dict(exact_scores, f1_scores, qid_list=None):\n",
    "    if not qid_list:\n",
    "        total = len(exact_scores)\n",
    "        return collections.OrderedDict(\n",
    "            [\n",
    "                (\"exact\", 100.0 * sum(exact_scores.values()) / total),\n",
    "                (\"f1\", 100.0 * sum(f1_scores.values()) / total),\n",
    "                (\"total\", total),\n",
    "            ]\n",
    "        )\n",
    "    else:\n",
    "        total = len(qid_list)\n",
    "        return collections.OrderedDict(\n",
    "            [\n",
    "                (\"exact\", 100.0 * sum(exact_scores[k] for k in qid_list) / total),\n",
    "                (\"f1\", 100.0 * sum(f1_scores[k] for k in qid_list) / total),\n",
    "                (\"total\", total),\n",
    "            ]\n",
    "        )"
   ]
  },
  {
   "cell_type": "code",
   "execution_count": 52,
   "id": "afe94cba-6ef7-4c8c-88a4-b7a62c40b20b",
   "metadata": {},
   "outputs": [],
   "source": [
    "with open(\"../gemini-1.0-pro-latest_squad2.0_validation.json\", \"r\") as fin:\n",
    "    data = json.load(fin)"
   ]
  },
  {
   "cell_type": "code",
   "execution_count": 53,
   "id": "91454a1b-cae0-4b35-b545-355917cf0bc3",
   "metadata": {},
   "outputs": [],
   "source": [
    "exact_scores, f1_scores = get_raw_scores(data)"
   ]
  },
  {
   "cell_type": "code",
   "execution_count": 54,
   "id": "91d539ee-71fe-455f-ae67-b4e808653647",
   "metadata": {},
   "outputs": [
    {
     "data": {
      "text/plain": [
       "OrderedDict([('exact', 76.77725118483413),\n",
       "             ('f1', 80.81593955483237),\n",
       "             ('total', 11605)])"
      ]
     },
     "execution_count": 54,
     "metadata": {},
     "output_type": "execute_result"
    }
   ],
   "source": [
    "make_eval_dict(exact_scores, f1_scores, qid_list=None)"
   ]
  },
  {
   "cell_type": "code",
   "execution_count": 56,
   "id": "bb361ca0-867c-4b2e-a2cf-d36e7be4e542",
   "metadata": {},
   "outputs": [
    {
     "name": "stdout",
     "output_type": "stream",
     "text": [
      "268\n",
      "['56de15104396321400ee25b7', '5ad3ee2d604f3c001a3ff7e1', '56de1563cffd8e1900b4b5c3', '5ad3f028604f3c001a3ff825', '5ad3fb01604f3c001a3ffb36', '56de3dbacffd8e1900b4b6d2', '5ad3fb6e604f3c001a3ffb5f', '5ad567055b96ef001a10adeb', '5ad04de377cf76001a686fa6', '570d2c20fed7b91900d45ca7', '57109275b654c5140001f9a1', '571114cfb654c5140001fb0a', '571114cfb654c5140001fb0c', '57111ab8a58dae1900cd6c40', '571144d1a58dae1900cd6d6e', '5ad3d689604f3c001a3ff30d', '5ad3ed37604f3c001a3ff7a4', '5ad415fd604f3c001a40032b', '571c3e8cdd7acb1400e4c0a7', '571a4d1a4faf5e1900b8a95a', '571c4132dd7acb1400e4c0b0', '571cebc05efbb31900334e48', '571cebc05efbb31900334e49', '571cebc05efbb31900334e4a', '571cebc05efbb31900334e4c', '5ad2678ad7d075001a42922c', '5ad2678ad7d075001a42922f', '571ce9bddd7acb1400e4c1a1', '5ad2685dd7d075001a429279', '571c7d55dd7acb1400e4c0c4', '571c8198dd7acb1400e4c0cf', '5ad24180d7d075001a428970', '5ad24ce8d7d075001a428c0f', '571c9348dd7acb1400e4c118', '571cc5c45efbb31900334ddb', '5ad258b4d7d075001a428dda', '571cc6f85efbb31900334de8', '571cc8815efbb31900334df0', '5ad25bf3d7d075001a428e95', '571cd3b55efbb31900334e03', '5ad25f35d7d075001a428f6b', '5ad25e70d7d075001a428f1e', '5ad26000d7d075001a428fb0', '5ad262e2d7d075001a4290ca', '5ad262e2d7d075001a4290cb', '571ce3745efbb31900334e23', '571ce5055efbb31900334e2a', '571ce6655efbb31900334e34', '571ce6655efbb31900334e36', '5a7505e497ca42001a521de3', '5a75066297ca42001a521de9', '57261dab38643c19005ad038', '5a38bf63a4b263001a8c18fb', '57265360dd62a815002e819c', '57265e455951b619008f70bc', '5726c19add62a815002e8f8b', '5726c3da708984140094d0db', '5725c41eec44d21400f3d50d', '572a0bfaaf94a219006aa77d', '5729f3831d0469140077967e', '5729fd56af94a219006aa731', '572a020f6aef051400155199', '5725c57a89a1e219009abe5e', '5725c57a89a1e219009abe5f', '5725c57a89a1e219009abe60', '5726415bec44d21400f3dcd1', '5726415bec44d21400f3dcd2', '5726415bec44d21400f3dcd3', '5726415bec44d21400f3dcd5', '57264b1ddd62a815002e80a4', '572658daf1498d1400e8dcae', '572658daf1498d1400e8dcb0', '5a838b42e60761001a2eb7aa', '572683075951b619008f7513', '572683075951b619008f7516', '5a838db9e60761001a2eb7bb', '57268c01dd62a815002e8915', '5726249538643c19005ad081', '57263677ec44d21400f3dc4b', '5726385e271a42140099d797', '5726385e271a42140099d799', '5a550b52134fea001a0e1848', '5a668172f038b7001ab0bef8', '5a668172f038b7001ab0befb', '57263b1638643c19005ad335', '57263cfcec44d21400f3dc8e', '57263dcd89a1e219009ac5a3', '5a668fc9f038b7001ab0bfea', '572647e2dd62a815002e805c', '57264f18f1498d1400e8dbb1', '57265285708984140094c25b', '57266e72f1498d1400e8df8f', '57268527708984140094c8c2', '5726d8bd708984140094d35c', '5726d8bd708984140094d35d', '5a6cb5c14eec6b001a80a625', '5726ddf6f1498d1400e8ee04', '5726deed5951b619008f80c8', '5726e313f1498d1400e8eeb6', '5a6ce6164eec6b001a80a69a', '5726eb4b5951b619008f826d', '5726eb4b5951b619008f826e', '5726ed6cf1498d1400e8f00e', '5726ed6cf1498d1400e8f00f', '5726ed6cf1498d1400e8f010', '5726ef73f1498d1400e8f05e', '5726ef73f1498d1400e8f062', '5726f36cdd62a815002e9601', '5726f7715951b619008f838e', '572726c9708984140094da7b', '5728d6f02ca10214002da90e', '5728d6f02ca10214002da910', '572807802ca10214002d9bfa', '572818f54b864d190016446d', '572818f54b864d190016446e', '5728dddc2ca10214002da9d5', '57281c594b864d19001644a6', '5728202c4b864d19001644ec', '5728e07e3acd2414000e00ea', '5728e07e3acd2414000e00eb', '572825a92ca10214002d9efe', '5728e5224b864d1900165032', '5728e5224b864d1900165033', '5728284e3acd2414000df5cd', '5728284e3acd2414000df5ce', '57282dfb4b864d1900164669', '57282dfb4b864d190016466b', '5a6683d5f038b7001ab0bf22', '5728eb1a3acd2414000e01c9', '5728facd4b864d1900165170', '5728fc9e1d04691400778f11', '5728fc9e1d04691400778f12', '5728fc9e1d04691400778f15', '57273f27dd62a815002e9a0b', '5a25e8d5ef59cd001a623d18', '5a25f133c93d92001a400351', '572756fe708984140094dc73', '5727490bdd62a815002e9a84', '5a679f83f038b7001ab0c366', '57275409708984140094dc35', '57275409708984140094dc36', '5a82001531013a001a3350a3', '5727cc15ff5b5019007d9578', '5727d1c93acd2414000ded41', '5727d4922ca10214002d977e', '5727dd2e4b864d1900163eba', '5727dd2e4b864d1900163ebb', '5727dd2e4b864d1900163ebc', '5727dd2e4b864d1900163ebd', '5727e0474b864d1900163f08', '5727e0474b864d1900163f0b', '572824f13acd2414000df590', '5727ed2e3acd2414000df004', '5729da0faf94a219006aa677', '5727f05b4b864d190016406b', '5729e2b76aef0514001550d0', '5729e38daf94a219006aa69e', '572a0ecb1d0469140077971a', '572a1f086aef0514001552c3', '5ad267e2d7d075001a42924a', '572a20816aef0514001552e6', '572a20816aef0514001552e7', '5ad268b2d7d075001a42928a', '5ad268b2d7d075001a42928c', '572a213e6aef0514001552f0', '5ad2690ed7d075001a4292b2', '572a2224af94a219006aa823', '57283db6ff5b5019007d9fbc', '57283db6ff5b5019007d9fbe', '5acf98ad77cf76001a6853c6', '57286010ff5b5019007da1cb', '57287338ff5b5019007da235', '57288428ff5b5019007da28e', '5728fc2eaf94a219006a9ec9', '5728fc2eaf94a219006a9ecb', '5ad4acbd5b96ef001a109d7b', '5729f39a6aef051400155150', '5729fc3d1d0469140077969d', '572a03086aef0514001551a2', '572a03086aef0514001551a3', '572a03086aef0514001551a4', '5ad4f7895b96ef001a10a7f0', '5a3e307f378766001a0024d9', '57294209af94a219006aa204', '572945b11d04691400779230', '57296f293f37b319004783a3', '572998673f37b319004784d8', '5a8943753b2508001a72a573', '572fe1d404bcaa1900d76e37', '572fadcbb2c2fd140056832b', '572fc5a1947a6a140053cc8d', '572ff626947a6a140053ce91', '572ff626947a6a140053ce92', '572ff760b2c2fd1400568679', '572ff760b2c2fd140056867b', '572ffbaa947a6a140053cee7', '572ffbaa947a6a140053cee9', '5acfe78477cf76001a6863e7', '572ffd9e04bcaa1900d76fc8', '5acfe84677cf76001a686405', '572ffe6fb2c2fd14005686f2', '572fffb1b2c2fd14005686fa', '5acfe91c77cf76001a686437', '5acfe99177cf76001a686457', '5730040f947a6a140053cf4c', '57300e2604bcaa1900d770b9', '57300ec0947a6a140053d005', '57300f8504bcaa1900d770d1', '573010fab2c2fd14005687d9', '5730126ba23a5019007fcd09', '5730126ba23a5019007fcd0a', '5730131c947a6a140053d052', '5730131c947a6a140053d054', '5acfec9277cf76001a686506', '5acfec9277cf76001a686508', '5730208fa23a5019007fcdee', '5730208fa23a5019007fcdef', '573020f7b2c2fd14005688fb', '573027d6a23a5019007fcea1', '5730285a04bcaa1900d77271', '57302a3aa23a5019007fced3', '57302ad804bcaa1900d772b2', '57302bd0b2c2fd14005689db', '57302cd004bcaa1900d772db', '57302e45947a6a140053d22e', '57302e45947a6a140053d232', '57302efe04bcaa1900d772f5', '57302efe04bcaa1900d772f9', '57302faa04bcaa1900d77315', '57303048947a6a140053d258', '5acff00c77cf76001a6865b8', '573085ea8ab72b1400f9c54d', '57308cf88ab72b1400f9c579', '57308f6b8ab72b1400f9c581', '57308f6b8ab72b1400f9c582', '573099ee8ab72b1400f9c5dd', '573099ee8ab72b1400f9c5de', '57309bfb8ab72b1400f9c5e9', '5730a951069b531400832213', '5730b4282461fd1900a9cfc5', '5730b7ce069b5314008322c6', '5ad4bbbb5b96ef001a109e89', '57332442d058e614000b5722', '573368e54776f41900660a53', '57337f6ad058e614000b5bce', '5733cf61d058e614000b62ea', '5733cff84776f419006612b5', '5733d5704776f4190066130f', '5733dc95d058e614000b644c', '5733dd4f4776f419006613aa', '5733dd4f4776f419006613ac', '5ad3a893604f3c001a3feafb', '5ad3a893604f3c001a3feaff', '5733e8ae4776f419006614a8', '5733f309d058e614000b6648', '5733f410d058e614000b6663', '5733f410d058e614000b6666', '5733f9fa4776f41900661620', '5733faaf4776f41900661631', '5733fc6ed058e614000b6711', '5733fd66d058e614000b6738', '5733fe73d058e614000b673d', '5733ffa7d058e614000b6751', '5ad3b826604f3c001a3fee4b', '573403394776f419006616df', '57340549d058e614000b67dd', '573408ef4776f4190066175a', '5ad28237d7d075001a429822']\n"
     ]
    }
   ],
   "source": [
    "# Find ids where Gemini failed.\n",
    "failed_ids = []\n",
    "for row in data:\n",
    "    if row[\"gemini-1.0-pro-latest_answer\"] == \"<API_failed>\":\n",
    "        failed_ids.append(row[\"id\"])\n",
    "\n",
    "print(len(failed_ids))\n",
    "print(failed_ids)"
   ]
  }
 ],
 "metadata": {
  "kernelspec": {
   "display_name": "Python 3 (ipykernel)",
   "language": "python",
   "name": "python3"
  },
  "language_info": {
   "codemirror_mode": {
    "name": "ipython",
    "version": 3
   },
   "file_extension": ".py",
   "mimetype": "text/x-python",
   "name": "python",
   "nbconvert_exporter": "python",
   "pygments_lexer": "ipython3",
   "version": "3.10.12"
  }
 },
 "nbformat": 4,
 "nbformat_minor": 5
}
