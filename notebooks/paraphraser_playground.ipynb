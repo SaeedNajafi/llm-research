{
 "cells": [
  {
   "cell_type": "code",
   "execution_count": 6,
   "id": "dc45ebdd-0674-4889-ba0c-872bcebdb955",
   "metadata": {},
   "outputs": [
    {
     "name": "stdout",
     "output_type": "stream",
     "text": [
      "2024-02-27 17:28:03.956740: I external/local_tsl/tsl/cuda/cudart_stub.cc:31] Could not find cuda drivers on your machine, GPU will not be used.\n",
      "2024-02-27 17:28:04.012409: E external/local_xla/xla/stream_executor/cuda/cuda_dnn.cc:9261] Unable to register cuDNN factory: Attempting to register factory for plugin cuDNN when one has already been registered\n",
      "2024-02-27 17:28:04.012466: E external/local_xla/xla/stream_executor/cuda/cuda_fft.cc:607] Unable to register cuFFT factory: Attempting to register factory for plugin cuFFT when one has already been registered\n",
      "2024-02-27 17:28:04.014712: E external/local_xla/xla/stream_executor/cuda/cuda_blas.cc:1515] Unable to register cuBLAS factory: Attempting to register factory for plugin cuBLAS when one has already been registered\n",
      "2024-02-27 17:28:04.026752: I tensorflow/core/platform/cpu_feature_guard.cc:182] This TensorFlow binary is optimized to use available CPU instructions in performance-critical operations.\n",
      "To enable the following instructions: AVX2 AVX512F FMA, in other operations, rebuild TensorFlow with the appropriate compiler flags.\n",
      "2024-02-27 17:28:05.340006: W tensorflow/compiler/tf2tensorrt/utils/py_utils.cc:38] TF-TRT Warning: Could not find TensorRT\n",
      "2024-02-27 17:28:07.206846: W tensorflow/core/common_runtime/gpu/gpu_device.cc:2256] Cannot dlopen some GPU libraries. Please make sure the missing libraries mentioned above are installed properly if you would like to use GPU. Follow the guide at https://www.tensorflow.org/install/gpu for how to download and setup the required libraries for your platform.\n",
      "Skipping registering GPU devices...\n",
      "I0227 17:28:07.207027 140638823170176 paraphraser.py:312] Testing the model on gpu!\n",
      "I0227 17:28:12.623427 140638823170176 paraphraser.py:240] {'para_input_ids': tensor([[1960, 1330,   12,  ...,    0,    0,    0],\n",
      "        [  27, 5591,   25,  ...,    0,    0,    0]]), 'para_attention_mask': tensor([[1, 1, 1,  ..., 0, 0, 0],\n",
      "        [1, 1, 1,  ..., 0, 0, 0]])}\n",
      "I0227 17:28:12.625281 140638823170176 paraphraser.py:242] diverse beam search testing.\n",
      "/fs01/home/snajafi/codes/llm-research/llm-env/lib/python3.10/site-packages/transformers/generation/configuration_utils.py:410: UserWarning: `do_sample` is set to `False`. However, `temperature` is set to `0.7` -- this flag is only used in sample-based generation modes. You should set `do_sample=True` or unset `temperature`.\n",
      "  warnings.warn(\n",
      "I0227 17:28:14.755015 140638823170176 paraphraser.py:244] ['Toronto (and I do like the rain): Today is definitely a day in the life!', \"Toronto's weather today is perfect, and it'll likely continue into the afternoon with rain.\", 'Bro, I hate you so much.', 'I hate you, mate.']\n",
      "I0227 17:28:14.755280 140638823170176 paraphraser.py:245] tensor([ -0.6222,  -1.0970, -13.5111, -10.7965], device='cuda:0')\n",
      "I0227 17:28:14.756804 140638823170176 paraphraser.py:247] top_p testing.\n",
      "I0227 17:28:15.622930 140638823170176 paraphraser.py:249] ['Toronto (and I do like the rain): Today is definitely a day in the life!', \"Toronto's weather today is perfect, and it'll likely continue into the afternoon with rain.\", 'Bro, I hate you so much.', 'I hate you, mate.']\n",
      "I0227 17:28:15.623110 140638823170176 paraphraser.py:250] tensor([ -0.6222,  -1.0970, -13.5111, -10.7965], device='cuda:0')\n",
      "I0227 17:28:16.316690 140638823170176 paraphraser.py:263] epoch_0 loss_value:23.852039337158203\n",
      "I0227 17:28:17.308365 140638823170176 paraphraser.py:263] epoch_1 loss_value:30.130420684814453\n",
      "I0227 17:28:18.178112 140638823170176 paraphraser.py:263] epoch_2 loss_value:20.698822021484375\n",
      "I0227 17:28:18.998315 140638823170176 paraphraser.py:263] epoch_3 loss_value:25.214813232421875\n",
      "I0227 17:28:19.829345 140638823170176 paraphraser.py:263] epoch_4 loss_value:14.885719299316406\n",
      "I0227 17:28:20.633527 140638823170176 paraphraser.py:263] epoch_5 loss_value:13.7119722366333\n",
      "I0227 17:28:21.458527 140638823170176 paraphraser.py:263] epoch_6 loss_value:10.504928588867188\n",
      "I0227 17:28:22.270596 140638823170176 paraphraser.py:263] epoch_7 loss_value:10.92198657989502\n",
      "I0227 17:28:23.092357 140638823170176 paraphraser.py:263] epoch_8 loss_value:10.655818939208984\n",
      "I0227 17:28:23.909143 140638823170176 paraphraser.py:263] epoch_9 loss_value:9.924421310424805\n",
      "I0227 17:28:24.721239 140638823170176 paraphraser.py:263] epoch_10 loss_value:12.507193565368652\n",
      "I0227 17:28:25.540988 140638823170176 paraphraser.py:263] epoch_11 loss_value:8.272830963134766\n",
      "I0227 17:28:26.363083 140638823170176 paraphraser.py:263] epoch_12 loss_value:4.489193916320801\n",
      "I0227 17:28:27.172642 140638823170176 paraphraser.py:263] epoch_13 loss_value:9.563530921936035\n",
      "I0227 17:28:27.982842 140638823170176 paraphraser.py:263] epoch_14 loss_value:6.869312763214111\n",
      "I0227 17:28:28.801065 140638823170176 paraphraser.py:263] epoch_15 loss_value:6.194675445556641\n",
      "I0227 17:28:29.621786 140638823170176 paraphraser.py:263] epoch_16 loss_value:3.9792323112487793\n",
      "I0227 17:28:30.456814 140638823170176 paraphraser.py:263] epoch_17 loss_value:4.107016563415527\n",
      "I0227 17:28:31.270631 140638823170176 paraphraser.py:263] epoch_18 loss_value:3.99287748336792\n",
      "I0227 17:28:32.114536 140638823170176 paraphraser.py:263] epoch_19 loss_value:5.924798965454102\n",
      "I0227 17:28:32.152895 140638823170176 paraphraser.py:268] top_p testing.\n",
      "I0227 17:28:32.893370 140638823170176 paraphraser.py:270] ['I hate you!', 'I hate you!', 'Today seems to be a rainy day in Toronto', 'It appears to be a rainy day today in Toronto']\n",
      "I0227 17:28:32.893770 140638823170176 paraphraser.py:271] tensor([-10.8772, -11.9267,  -0.1014,  -0.4833], device='cuda:0')\n",
      "I0227 17:28:32.895412 140638823170176 paraphraser.py:273] [1.097886967409693e-05]\n",
      "I0227 17:28:32.895600 140638823170176 checkpoint_utils.py:45] Saving model to /tmp/_paraphraser_testing_stage_model.bin\n",
      "I0227 17:28:34.567788 140638823170176 checkpoint_utils.py:21] Saving to /tmp/_paraphraser_testing_stage_optimizer.bin\n",
      "I0227 17:28:35.353281 140638823170176 checkpoint_utils.py:21] Saving to /tmp/_paraphraser_testing_stage_scheduler.bin\n",
      "I0227 17:28:38.312992 140638823170176 checkpoint_utils.py:130] Loading from /tmp/_paraphraser_testing_stage_model\n",
      "I0227 17:28:38.933547 140638823170176 checkpoint_utils.py:115] Loading from /tmp/_paraphraser_testing_stage_optimizer.bin\n",
      "I0227 17:28:39.473104 140638823170176 checkpoint_utils.py:140] Loading from /tmp/_paraphraser_testing_stage_scheduler.bin\n",
      "I0227 17:28:40.820094 140638823170176 paraphraser.py:282] [1.097886967409693e-05]\n",
      "I0227 17:28:40.823711 140638823170176 paraphraser.py:285] top_p testing.\n",
      "/fs01/home/snajafi/codes/llm-research/llm-env/lib/python3.10/site-packages/transformers/generation/configuration_utils.py:410: UserWarning: `do_sample` is set to `False`. However, `temperature` is set to `0.7` -- this flag is only used in sample-based generation modes. You should set `do_sample=True` or unset `temperature`.\n",
      "  warnings.warn(\n",
      "I0227 17:28:41.564983 140638823170176 paraphraser.py:287] ['Today seems to be a rainy day in Toronto', 'It appears to be a rainy day today in Toronto', 'I hate you!', 'I hate you!']\n",
      "I0227 17:28:41.565168 140638823170176 paraphraser.py:288] tensor([ -0.1014,  -0.4833, -10.8772, -11.9267], device='cuda:0')\n",
      "I0227 17:28:41.597272 140638823170176 paraphraser.py:295] Same models after saving and loading!\n",
      "I0227 17:28:42.281960 140638823170176 paraphraser.py:303] epoch_0 loss_value:3.8382341861724854\n",
      "I0227 17:28:43.074948 140638823170176 paraphraser.py:303] epoch_1 loss_value:3.0153706073760986\n",
      "I0227 17:28:43.856773 140638823170176 paraphraser.py:303] epoch_2 loss_value:6.991077423095703\n",
      "I0227 17:28:44.689142 140638823170176 paraphraser.py:303] epoch_3 loss_value:4.867807388305664\n",
      "I0227 17:28:45.556456 140638823170176 paraphraser.py:303] epoch_4 loss_value:6.623842239379883\n",
      "I0227 17:28:46.359392 140638823170176 paraphraser.py:303] epoch_5 loss_value:1.7137706279754639\n",
      "I0227 17:28:47.150284 140638823170176 paraphraser.py:303] epoch_6 loss_value:1.8037645816802979\n",
      "I0227 17:28:47.933318 140638823170176 paraphraser.py:303] epoch_7 loss_value:2.590670347213745\n",
      "I0227 17:28:48.709484 140638823170176 paraphraser.py:303] epoch_8 loss_value:2.405941963195801\n",
      "I0227 17:28:49.497194 140638823170176 paraphraser.py:303] epoch_9 loss_value:4.761470317840576\n"
     ]
    }
   ],
   "source": [
    "!python ../src/paraphraser.py"
   ]
  },
  {
   "cell_type": "code",
   "execution_count": null,
   "id": "fd370db0-140b-4889-8002-f285d286af74",
   "metadata": {},
   "outputs": [],
   "source": []
  }
 ],
 "metadata": {
  "kernelspec": {
   "display_name": "Python 3 (ipykernel)",
   "language": "python",
   "name": "python3"
  },
  "language_info": {
   "codemirror_mode": {
    "name": "ipython",
    "version": 3
   },
   "file_extension": ".py",
   "mimetype": "text/x-python",
   "name": "python",
   "nbconvert_exporter": "python",
   "pygments_lexer": "ipython3",
   "version": "3.10.12"
  }
 },
 "nbformat": 4,
 "nbformat_minor": 5
}
